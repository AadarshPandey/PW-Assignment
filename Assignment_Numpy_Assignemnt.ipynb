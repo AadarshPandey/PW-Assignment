{
 "cells": [
  {
   "cell_type": "markdown",
   "id": "50f3ec7f-8b06-4cbb-b7ff-21bd7d7785ff",
   "metadata": {},
   "source": [
    "# Assignment : Numpy Assignemnt "
   ]
  },
  {
   "cell_type": "markdown",
   "id": "17638e46-16ac-407e-bf92-f6eec3aa06a8",
   "metadata": {},
   "source": [
    "## 1. Create a NumPy array 'arr' of integers from 0 to 5 and print its data type."
   ]
  },
  {
   "cell_type": "code",
   "execution_count": 3,
   "id": "47610e18-11b4-41f9-90ae-44c2de35da9a",
   "metadata": {},
   "outputs": [
    {
     "name": "stdout",
     "output_type": "stream",
     "text": [
      "Array : [0 1 2 3 4 5]\n",
      "Array data type : int32\n"
     ]
    }
   ],
   "source": [
    "import numpy as np\n",
    "arr=np.arange(6)\n",
    "print(f\"Array : {arr}\\nArray data type : {arr.dtype}\")"
   ]
  },
  {
   "cell_type": "markdown",
   "id": "68681e98-ca66-49c2-9a75-05fa51109443",
   "metadata": {},
   "source": [
    "## 2. Given a NumPy array 'arr', check if its data type is float64. \n",
    "##            arr = np.array([1.5, 2.6, 3.7])"
   ]
  },
  {
   "cell_type": "code",
   "execution_count": 6,
   "id": "999ec82b-fac0-41c7-a8b8-d4adde1602b5",
   "metadata": {},
   "outputs": [
    {
     "name": "stdout",
     "output_type": "stream",
     "text": [
      "Given a NumPy array 'arr' is float64\n"
     ]
    }
   ],
   "source": [
    "import numpy as np\n",
    "arr = np.array([1.5, 2.6, 3.7])\n",
    "print(\"Given a NumPy array 'arr' is float64\") if (arr.dtype==np.float64) else print(\"Given a NumPy array 'arr' is not float64\")    "
   ]
  },
  {
   "cell_type": "markdown",
   "id": "fbd415af-5655-4e73-bd7e-1dba19861a0a",
   "metadata": {},
   "source": [
    "## 3. Create a NumPy array 'arr' with a data type of complex128 containing three complex numbers."
   ]
  },
  {
   "cell_type": "code",
   "execution_count": 3,
   "id": "746bfda5-5407-4a14-8e4e-bd048697cec3",
   "metadata": {},
   "outputs": [
    {
     "name": "stdin",
     "output_type": "stream",
     "text": [
      "Enter C1 :  2+5j\n",
      "Enter C2 :  -5\n",
      "Enter C3 :  -2j\n"
     ]
    },
    {
     "data": {
      "text/plain": [
       "dtype('complex128')"
      ]
     },
     "execution_count": 3,
     "metadata": {},
     "output_type": "execute_result"
    }
   ],
   "source": [
    "import numpy as np\n",
    "arr=np.array([])\n",
    "for i in range(3):\n",
    "    a=complex(input(f\"Enter C{i+1} : \"))\n",
    "    arr=np.append(arr,a)\n",
    "arr=arr.astype(\"complex128\")\n",
    "arr.dtype"
   ]
  },
  {
   "cell_type": "markdown",
   "id": "291ef077-3d05-4ba1-b238-bdaef23fbdac",
   "metadata": {},
   "source": [
    "##  4. Convert an existing NumPy array 'arr' of integers to float32 data type."
   ]
  },
  {
   "cell_type": "code",
   "execution_count": 18,
   "id": "0af9aafe-1ae1-4805-b3e3-d08bc9900357",
   "metadata": {},
   "outputs": [
    {
     "name": "stdin",
     "output_type": "stream",
     "text": [
      "Enter the number of elements in array :  4\n",
      "Enter integer number :  8\n",
      "Enter integer number :  2\n",
      "Enter integer number :  5\n",
      "Enter integer number :  1\n"
     ]
    },
    {
     "data": {
      "text/plain": [
       "dtype('float32')"
      ]
     },
     "execution_count": 18,
     "metadata": {},
     "output_type": "execute_result"
    }
   ],
   "source": [
    "import numpy as np\n",
    "arr=np.array([])\n",
    "n=int(input(\"Enter the number of elements in array : \"))\n",
    "for i in range(n):\n",
    "    a=int(input(\"Enter integer number : \"))\n",
    "    arr=np.append(arr,a)\n",
    "arr=np.float32(arr)\n",
    "arr.dtype"
   ]
  },
  {
   "cell_type": "markdown",
   "id": "3637fdc8-ae57-4cb1-8c14-a5c5eac47006",
   "metadata": {},
   "source": [
    "##  5. Given a NumPy array 'arr' with float64 data type, convert it to float32 to reduce decimal precision."
   ]
  },
  {
   "cell_type": "code",
   "execution_count": 4,
   "id": "4493c7d9-e0ad-44cb-aa9e-2605ce024be2",
   "metadata": {},
   "outputs": [
    {
     "name": "stdin",
     "output_type": "stream",
     "text": [
      "Enter the number of elements in array :  4\n",
      "Enter float number :  8\n",
      "Enter float number :  2\n",
      "Enter float number :  5\n",
      "Enter float number :  1\n"
     ]
    },
    {
     "name": "stdout",
     "output_type": "stream",
     "text": [
      "Array : [8. 2. 5. 1.]\n",
      "Array data type : float32\n"
     ]
    }
   ],
   "source": [
    "import numpy as np\n",
    "arr=np.array([])\n",
    "n=int(input(\"Enter the number of elements in array : \"))\n",
    "for i in range(n):\n",
    "    a=np.float64(input(\"Enter float number : \"))\n",
    "    arr=np.append(arr,a)\n",
    "arr\n",
    "float_arr=arr.astype(np.float32)\n",
    "print(f\"Array : {float_arr}\\nArray data type : {float_arr.dtype}\")"
   ]
  },
  {
   "cell_type": "markdown",
   "id": "b28cde53-35d5-43a2-ad45-a836778513b3",
   "metadata": {},
   "source": [
    "## 6. Write a function array_attributes that takes a NumPy array as input and returns its shape, size, and data type."
   ]
  },
  {
   "cell_type": "code",
   "execution_count": 32,
   "id": "2f122cbb-150d-4db1-9137-1eec36363ae4",
   "metadata": {},
   "outputs": [
    {
     "name": "stdin",
     "output_type": "stream",
     "text": [
      "Enter the number of elements in array :  6\n",
      "Enter the number of rows in array :  2\n",
      "Enter the number of columns in array :  3\n",
      "Enter float number :  1.2\n",
      "Enter float number :  -1.2\n",
      "Enter float number :  2.3\n",
      "Enter float number :  -2.3\n",
      "Enter float number :  3.4\n",
      "Enter float number :  -3.4\n"
     ]
    },
    {
     "data": {
      "text/plain": [
       "'Array : [[ 1.2 -1.2  2.3]\\n [-2.3  3.4 -3.4]]    Array shape : (2, 3)    Array size : 6    Array data type :float64'"
      ]
     },
     "execution_count": 32,
     "metadata": {},
     "output_type": "execute_result"
    }
   ],
   "source": [
    "import numpy as np\n",
    "arr=np.array([])\n",
    "n=int(input(\"Enter the number of elements in array : \"))\n",
    "row=int(input(\"Enter the number of rows in array : \"))\n",
    "col=int(input(\"Enter the number of columns in array : \"))\n",
    "for i in range(n):\n",
    "    a=np.float64(input(\"Enter float number : \"))\n",
    "    arr=np.append(arr,a)\n",
    "arr=arr.reshape(row,col)\n",
    "def array_attributes(arr):\n",
    "    return(f\"Array : {arr}    Array shape : {arr.shape}    Array size : {arr.size}    Array data type :{arr.dtype}\")\n",
    "array_attributes(arr)"
   ]
  },
  {
   "cell_type": "markdown",
   "id": "b3ca41ab-9728-4d5d-9ca5-c2b45add7cb4",
   "metadata": {},
   "source": [
    "## 7. Create a function array_dimension that takes a NumPy array as input and returns its dimensionality."
   ]
  },
  {
   "cell_type": "code",
   "execution_count": 33,
   "id": "ec1346d4-c5f7-4777-9541-ccb9de5746f1",
   "metadata": {},
   "outputs": [
    {
     "data": {
      "text/plain": [
       "'Array dimension : 2'"
      ]
     },
     "execution_count": 33,
     "metadata": {},
     "output_type": "execute_result"
    }
   ],
   "source": [
    "import numpy as np\n",
    "arr=np.array([[10,3],[3,7],[9,7.9]])\n",
    "def array_dimension(arr):\n",
    "    return(f\"Array dimension : {arr.ndim}\")\n",
    "array_dimension(arr)"
   ]
  },
  {
   "cell_type": "markdown",
   "id": "c003b952-f008-4928-9010-79e30fdb9589",
   "metadata": {},
   "source": [
    "## 8. Design a function item_size_info that takes a NumPy array as input and returns the item size and the total size in bytes."
   ]
  },
  {
   "cell_type": "code",
   "execution_count": 4,
   "id": "3609a11b-5020-4a01-ad81-6b1db3d06952",
   "metadata": {},
   "outputs": [
    {
     "data": {
      "text/plain": [
       "'item size : 8    total size : 48'"
      ]
     },
     "execution_count": 4,
     "metadata": {},
     "output_type": "execute_result"
    }
   ],
   "source": [
    "import numpy as np\n",
    "arr=np.array([[10,3],[3,7],[9,7.9]])\n",
    "def item_size_info(arr):\n",
    "    return(f\"item size : {arr.itemsize}    total size : {arr.nbytes}\")\n",
    "item_size_info(arr)"
   ]
  },
  {
   "cell_type": "markdown",
   "id": "dfc5dfdd-1a64-427d-a5b9-b9744fc76679",
   "metadata": {},
   "source": [
    "## 9. Create a function array_strides that takes a NumPy array as input and returns the strides of the array."
   ]
  },
  {
   "cell_type": "code",
   "execution_count": 6,
   "id": "22c3558d-977b-4b22-8368-cf39e42ffd71",
   "metadata": {},
   "outputs": [
    {
     "data": {
      "text/plain": [
       "(16, 8)"
      ]
     },
     "execution_count": 6,
     "metadata": {},
     "output_type": "execute_result"
    }
   ],
   "source": [
    "import numpy as np\n",
    "arr=np.array([[10,3],[3,7],[9,7.9]])\n",
    "def array_strides(arr):\n",
    "    return arr.strides\n",
    "array_strides(arr)"
   ]
  },
  {
   "cell_type": "markdown",
   "id": "468c3697-de2d-489a-8a83-d68e9cebf962",
   "metadata": {},
   "source": [
    "## 10. Design a function shape_stride_relationship that takes a NumPy array as input and returns the shape and strides of the array."
   ]
  },
  {
   "cell_type": "code",
   "execution_count": 8,
   "id": "64a5dcc8-e395-4d41-a803-ff28c7699bc3",
   "metadata": {},
   "outputs": [
    {
     "data": {
      "text/plain": [
       "'Array shape : (3, 2)    Array strides : (16, 8)'"
      ]
     },
     "execution_count": 8,
     "metadata": {},
     "output_type": "execute_result"
    }
   ],
   "source": [
    "import numpy as np\n",
    "arr=np.array([[10,3],[3,7],[9,7.9]])\n",
    "def shape_stride_relationship(arr):\n",
    "    return(f\"Array shape : {arr.shape}    Array strides : {arr.strides}\")\n",
    "shape_stride_relationship(arr)"
   ]
  },
  {
   "cell_type": "markdown",
   "id": "9c8703bf-22e3-4c8f-b31b-6829803d4ed2",
   "metadata": {},
   "source": [
    "## 11. Create a function create_zeros_array that takes an integer 'n` as input and returns a NumPy array of zeros with 'n'elements."
   ]
  },
  {
   "cell_type": "code",
   "execution_count": 7,
   "id": "48014fe2-8fcb-4928-b100-f3aead0e2957",
   "metadata": {},
   "outputs": [
    {
     "name": "stdin",
     "output_type": "stream",
     "text": [
      "Enter the number of zerose in an array : 11\n"
     ]
    },
    {
     "data": {
      "text/plain": [
       "array([[0., 0., 0., 0., 0., 0., 0., 0., 0., 0., 0.]])"
      ]
     },
     "execution_count": 7,
     "metadata": {},
     "output_type": "execute_result"
    }
   ],
   "source": [
    "import numpy as np\n",
    "n=int(input(\"Enter the number of zerose in an array :\"))\n",
    "def create_zeros_array(n):\n",
    "    return np.zeros((1,n))\n",
    "create_zeros_array(n)"
   ]
  },
  {
   "cell_type": "markdown",
   "id": "42703e8b-1301-45d0-b4a9-640d69ab0d2b",
   "metadata": {},
   "source": [
    "## 12. Write a function 'create_ones_matrix that takes integers 'rows' and cols' as inputs and generates a 2D NumPy array filled with ones of size 'rows x cols."
   ]
  },
  {
   "cell_type": "code",
   "execution_count": 20,
   "id": "33d17d7e-e5e4-4a71-9950-819f4ec13d37",
   "metadata": {},
   "outputs": [
    {
     "name": "stdin",
     "output_type": "stream",
     "text": [
      "Enter the number of rows :  4\n",
      "Enter the number of cols :  3\n"
     ]
    },
    {
     "data": {
      "text/plain": [
       "array([[1., 1., 1.],\n",
       "       [1., 1., 1.],\n",
       "       [1., 1., 1.],\n",
       "       [1., 1., 1.]])"
      ]
     },
     "execution_count": 20,
     "metadata": {},
     "output_type": "execute_result"
    }
   ],
   "source": [
    "import numpy as np\n",
    "rows=int(input(\"Enter the number of rows : \"))\n",
    "cols=int(input(\"Enter the number of cols : \"))\n",
    "def create_ones_matrix(rows,cols):\n",
    "    return(np.ones((rows,cols)))\n",
    "create_ones_matrix(rows,cols)"
   ]
  },
  {
   "cell_type": "markdown",
   "id": "ade12594-0907-48c9-9ef4-4b5d81d9c3d5",
   "metadata": {},
   "source": [
    "## 13. Write a function generate_range_array that takes three integers start, stop, and step as arguments and creates a NumPy array with a range starting from 'start', ending at stop (exclusive), and with the specified step."
   ]
  },
  {
   "cell_type": "code",
   "execution_count": 21,
   "id": "bb5ba611-de1a-46d6-9f63-14b90d1da4c3",
   "metadata": {},
   "outputs": [
    {
     "name": "stdin",
     "output_type": "stream",
     "text": [
      "Enter the number of start :  1\n",
      "Enter the number of stop :  11\n",
      "Enter the number of step :  2\n"
     ]
    },
    {
     "data": {
      "text/plain": [
       "array([1, 3, 5, 7, 9])"
      ]
     },
     "execution_count": 21,
     "metadata": {},
     "output_type": "execute_result"
    }
   ],
   "source": [
    "import numpy as np\n",
    "start=int(input(\"Enter the number of start : \"))\n",
    "stop=int(input(\"Enter the number of stop : \"))\n",
    "step=int(input(\"Enter the number of step : \"))\n",
    "def generate_range_array(start,stop,step):\n",
    "    return np.arange(start,stop,step)\n",
    "generate_range_array(start,stop,step)"
   ]
  },
  {
   "cell_type": "markdown",
   "id": "af528346-bc48-4719-892e-755e4e4e05f9",
   "metadata": {},
   "source": [
    "## 14. Design a function generate_linear_space` that takes two floats 'start', stop', and an integer num as arguments and generates a NumPy array with num equally spaced values between 'start and 'stop' (inclusive)."
   ]
  },
  {
   "cell_type": "code",
   "execution_count": 8,
   "id": "657d3a95-157e-4029-b9e2-c93c678d5685",
   "metadata": {},
   "outputs": [
    {
     "name": "stdin",
     "output_type": "stream",
     "text": [
      "Enter the starting value:  1\n",
      "Enter the stopping value:  100\n",
      "Enter the number of values:  10\n"
     ]
    },
    {
     "name": "stdout",
     "output_type": "stream",
     "text": [
      "[  1.  12.  23.  34.  45.  56.  67.  78.  89. 100.]\n"
     ]
    }
   ],
   "source": [
    "import numpy as np\n",
    "\n",
    "def generate_linear_space(start, stop, num):\n",
    "    return np.linspace(start, stop, num)\n",
    "\n",
    "start = float(input(\"Enter the starting value: \"))\n",
    "stop = float(input(\"Enter the stopping value: \"))\n",
    "num = int(input(\"Enter the number of values: \"))\n",
    "\n",
    "result = generate_linear_space(start, stop, num)\n",
    "print(result)\n"
   ]
  },
  {
   "cell_type": "markdown",
   "id": "3139a6ca-93bc-4282-b744-4acc5fb414b5",
   "metadata": {},
   "source": [
    "## 15. Create a function 'create_identity_matrix that takes an integer n` as input and generates a square identity matrix of size 'n x n`using numpy.eye."
   ]
  },
  {
   "cell_type": "code",
   "execution_count": 9,
   "id": "e98f64df-0ca3-4447-a293-be5e9a1d81bf",
   "metadata": {},
   "outputs": [
    {
     "name": "stdin",
     "output_type": "stream",
     "text": [
      "Enter the value of n:  3\n"
     ]
    },
    {
     "name": "stdout",
     "output_type": "stream",
     "text": [
      "[[1. 0. 0.]\n",
      " [0. 1. 0.]\n",
      " [0. 0. 1.]]\n"
     ]
    }
   ],
   "source": [
    "import numpy as np\n",
    "\n",
    "def create_identity_matrix(n):\n",
    "    return np.eye(n)\n",
    "\n",
    "n = int(input(\"Enter the value of n: \"))\n",
    "result = create_identity_matrix(n)\n",
    "print(result)"
   ]
  },
  {
   "cell_type": "markdown",
   "id": "426c1085-d4ca-4332-b839-c6f7e96b551b",
   "metadata": {},
   "source": [
    "## 16. Write a function that takes a python list and converts it into Numpy array."
   ]
  },
  {
   "cell_type": "code",
   "execution_count": 11,
   "id": "ad206f65-c65a-4a75-baff-48b19c2c3772",
   "metadata": {},
   "outputs": [
    {
     "name": "stdin",
     "output_type": "stream",
     "text": [
      "Enter the number of elements:  10\n",
      "Enter element 0:  1\n",
      "Enter element 1:  2\n",
      "Enter element 2:  3\n",
      "Enter element 3:  4\n",
      "Enter element 4:  5\n",
      "Enter element 5:  6\n",
      "Enter element 6:  7\n",
      "Enter element 7:  8\n",
      "Enter element 8:  9\n",
      "Enter element 9:  10\n"
     ]
    },
    {
     "name": "stdout",
     "output_type": "stream",
     "text": [
      "['1' '2' '3' '4' '5' '6' '7' '8' '9' '10']\n"
     ]
    }
   ],
   "source": [
    "import numpy as np\n",
    "\n",
    "def list_to_arr(list1):\n",
    "    return np.array(list1)\n",
    "\n",
    "list1 = []\n",
    "n = int(input(\"Enter the number of elements: \"))\n",
    "for i in range(n):\n",
    "    a = input(f\"Enter element {i}: \")\n",
    "    # Optionally convert input to int or float if desired\n",
    "    list1.append(a)\n",
    "\n",
    "result = list_to_arr(list1)\n",
    "print(result)\n"
   ]
  },
  {
   "cell_type": "markdown",
   "id": "cb8345e7-28c3-4dcd-90ad-3644d4581473",
   "metadata": {},
   "source": [
    "## 17. Create a NumPy array and demonstrate the use of numpy.view' to create a new array object with the same data."
   ]
  },
  {
   "cell_type": "code",
   "execution_count": 12,
   "id": "88e14659-3484-455a-9da1-1d8db38f35c7",
   "metadata": {},
   "outputs": [
    {
     "name": "stdout",
     "output_type": "stream",
     "text": [
      "[1 2 3 4]\n"
     ]
    }
   ],
   "source": [
    "import numpy as np\n",
    "\n",
    "# Create a NumPy array\n",
    "arr1 = np.array([1, 2, 3, 4])\n",
    "\n",
    "# Demonstrate using view to create a new array object with the same data\n",
    "arr2 = arr1.view()\n",
    "print(arr2)\n"
   ]
  },
  {
   "cell_type": "markdown",
   "id": "b677c929-64bf-4b62-8e6a-f5447d98e65e",
   "metadata": {},
   "source": [
    "## 18. Write a function that takes two NumPy arrays and concatenates them along a specified axis."
   ]
  },
  {
   "cell_type": "code",
   "execution_count": 13,
   "id": "7f5924b7-d465-4c03-a68e-88398005097d",
   "metadata": {},
   "outputs": [
    {
     "data": {
      "text/plain": [
       "array([[10,  3],\n",
       "       [ 3,  7],\n",
       "       [ 9,  7],\n",
       "       [11, 30]])"
      ]
     },
     "execution_count": 13,
     "metadata": {},
     "output_type": "execute_result"
    }
   ],
   "source": [
    "import numpy as np\n",
    "arr1=np.array([[10,3],[3,7],[9,7]])\n",
    "arr2=np.array([[11,30]])\n",
    "axis=0\n",
    "def concatenate_arr(arr1,arr2,axis=0):\n",
    "    return np.concatenate((arr1,arr2),axis=axis)\n",
    "concatenate_arr(arr1,arr2)"
   ]
  },
  {
   "cell_type": "markdown",
   "id": "b8bbabdd-8b57-4953-b62e-dc3cdedab76e",
   "metadata": {},
   "source": [
    "## 19. Create two NumPy arrays with different shapes and concatenate them horizontally using numpy.concatenate."
   ]
  },
  {
   "cell_type": "code",
   "execution_count": 63,
   "id": "08656c47-5688-4162-84f0-5b210d901c7d",
   "metadata": {},
   "outputs": [
    {
     "name": "stdout",
     "output_type": "stream",
     "text": [
      "Enter shape in this format (e1,e2,...2n)\n"
     ]
    },
    {
     "name": "stdin",
     "output_type": "stream",
     "text": [
      "Enter the shape :  (2,3)\n",
      "Enter element 1 :  10\n",
      "Enter element 2 :  20\n",
      "Enter element 3 :  30\n",
      "Enter element 4 :  40\n",
      "Enter element 5 :  50\n",
      "Enter element 6 :  60\n"
     ]
    },
    {
     "name": "stdout",
     "output_type": "stream",
     "text": [
      "arr1 : [[10. 20. 30.]\n",
      " [40. 50. 60.]]\n"
     ]
    },
    {
     "name": "stdin",
     "output_type": "stream",
     "text": [
      "Enter the shape :  (1,3)\n",
      "Enter element 1 :  1\n",
      "Enter element 2 :  2\n",
      "Enter element 3 :  3\n"
     ]
    },
    {
     "name": "stdout",
     "output_type": "stream",
     "text": [
      "arr1 : [[1. 2. 3.]]\n",
      "Concatinated array : [[10. 20. 30.]\n",
      " [40. 50. 60.]\n",
      " [ 1.  2.  3.]]\n"
     ]
    }
   ],
   "source": [
    "import numpy as np\n",
    "\n",
    "print(\"Enter shape in this format (e1,e2,...2n)\")\n",
    "\n",
    "shape1=input(\"Enter the shape : \")\n",
    "list1=shape1.split(\",\")\n",
    "list1[0]=list1[0][1:]\n",
    "list1[-1]=list1[-1][:-1]\n",
    "shape1=tuple(map(int,list1))\n",
    "arr1=np.array([])\n",
    "num1=1\n",
    "for i in shape1:\n",
    "    num1*=i\n",
    "for i in range(num1):\n",
    "    a=int(input(f\"Enter element {i+1} : \"))\n",
    "    arr1=np.append(arr1,a)\n",
    "arr1=arr1.reshape(shape1)\n",
    "print(f\"arr1 : {arr1}\")\n",
    "\n",
    "shape2=input(\"Enter the shape : \")\n",
    "list2=shape2.split(\",\")\n",
    "list2[0]=list2[0][1:]\n",
    "list2[-1]=list2[-1][:-1]\n",
    "shape2=tuple(map(int,list2))\n",
    "arr2=np.array([])\n",
    "num2=1\n",
    "for i in shape2:\n",
    "    num2*=i\n",
    "for i in range(num2):\n",
    "    a=int(input(f\"Enter element {i+1} : \"))\n",
    "    arr2=np.append(arr2,a)\n",
    "arr2=arr2.reshape(shape2)\n",
    "print(f\"arr1 : {arr2}\")\n",
    "axis=0\n",
    "print(f\"Concatinated array : {np.concatenate((arr1,arr2),axis)}\")"
   ]
  },
  {
   "cell_type": "markdown",
   "id": "08a4fa77-a49c-49b1-934c-137bc93127b7",
   "metadata": {},
   "source": [
    "## 20. Write a function that vertically stacks multiple NumPy arrays given as a list."
   ]
  },
  {
   "cell_type": "code",
   "execution_count": 1,
   "id": "ad5f3064-cdd6-417b-a12d-0d4692c593b2",
   "metadata": {},
   "outputs": [
    {
     "data": {
      "text/plain": [
       "array([[1, 2],\n",
       "       [3, 4],\n",
       "       [5, 6],\n",
       "       [7, 8],\n",
       "       [5, 6],\n",
       "       [7, 8]])"
      ]
     },
     "execution_count": 1,
     "metadata": {},
     "output_type": "execute_result"
    }
   ],
   "source": [
    "import numpy as np\n",
    "arr1 = np.array([[1, 2], [3, 4]])\n",
    "arr2 = np.array([[5, 6], [7, 8]])\n",
    "arr3 = np.array([[9, 10], [11, 12]])\n",
    "def vertically_stacks(arr):\n",
    "    return np.vstack(arr)\n",
    "vertically_stacks([arr1,arr2,arr2])   "
   ]
  },
  {
   "cell_type": "markdown",
   "id": "508c1036-5c0c-40e9-b683-52d3eb5da5d2",
   "metadata": {},
   "source": [
    "## 21. Write a Python function using NumPy to create an array of integers within a specified range (inclusive) with a given step size."
   ]
  },
  {
   "cell_type": "code",
   "execution_count": 2,
   "id": "6dc55a8d-183b-4417-9394-cda2768c7086",
   "metadata": {},
   "outputs": [
    {
     "name": "stdin",
     "output_type": "stream",
     "text": [
      "Enter the start :  1\n",
      "Enter the stop :  10\n",
      "Enter the stept :  2\n"
     ]
    },
    {
     "data": {
      "text/plain": [
       "array([1, 3, 5, 7, 9])"
      ]
     },
     "execution_count": 2,
     "metadata": {},
     "output_type": "execute_result"
    }
   ],
   "source": [
    "import numpy as np\n",
    "start=int(input(\"Enter the start : \"))\n",
    "stop=int(input(\"Enter the stop : \"))\n",
    "step=int(input(\"Enter the stept : \"))\n",
    "\n",
    "def array_create(start,stop,step):\n",
    "    return np.arange(start,stop+1,step)\n",
    "array_create(start,stop,step)"
   ]
  },
  {
   "cell_type": "markdown",
   "id": "1afa18ed-8a43-45d2-82da-fe4eb7d11146",
   "metadata": {},
   "source": [
    "## 22. Write a Python function using NumPy to generate an array of 10 equally spaced values between 0 and 1 (inclusive)."
   ]
  },
  {
   "cell_type": "code",
   "execution_count": 6,
   "id": "6b613ea1-7d69-4b49-a213-15831bcdcd55",
   "metadata": {},
   "outputs": [
    {
     "data": {
      "text/plain": [
       "array([0.        , 0.11111111, 0.22222222, 0.33333333, 0.44444444,\n",
       "       0.55555556, 0.66666667, 0.77777778, 0.88888889, 1.        ])"
      ]
     },
     "execution_count": 6,
     "metadata": {},
     "output_type": "execute_result"
    }
   ],
   "source": [
    "import numpy as np\n",
    "start=0\n",
    "stop=1\n",
    "num=10\n",
    "\n",
    "def array_create(start,stop,num):\n",
    "    return np.linspace(start,stop,num)\n",
    "array_create(start,stop,num)"
   ]
  },
  {
   "cell_type": "markdown",
   "id": "4ec09f2f-4472-4492-84ae-0f9f918083c0",
   "metadata": {},
   "source": [
    "## 23. Write a Python function using NumPy to create an array of 5 logarithmically spaced values between 1and 1000 (inclusive)."
   ]
  },
  {
   "cell_type": "code",
   "execution_count": 7,
   "id": "0c483d39-218a-4482-b253-94ba752d3712",
   "metadata": {},
   "outputs": [
    {
     "data": {
      "text/plain": [
       "array([   1.  ,  250.75,  500.5 ,  750.25, 1000.  ])"
      ]
     },
     "execution_count": 7,
     "metadata": {},
     "output_type": "execute_result"
    }
   ],
   "source": [
    "import numpy as np\n",
    "start=1\n",
    "stop=1000\n",
    "num=5\n",
    "\n",
    "def array_create(start,stop,num):\n",
    "    return np.linspace(start,stop,num)\n",
    "array_create(start,stop,num)"
   ]
  },
  {
   "cell_type": "markdown",
   "id": "b560730d-cdef-4342-a7e6-7446f1f50dc0",
   "metadata": {},
   "source": [
    "## 24. Create a Pandas DataFrame using a NumPy array that contains 5 rows and 3 columns, where the values are random integers between 1 and 100."
   ]
  },
  {
   "cell_type": "code",
   "execution_count": 9,
   "id": "44a2ba00-80a3-4822-8b28-cc972dfb6f71",
   "metadata": {},
   "outputs": [
    {
     "name": "stdout",
     "output_type": "stream",
     "text": [
      "    0   1   2\n",
      "0  20  83  60\n",
      "1   2  19   3\n",
      "2  59  20  35\n",
      "3  20  79  83\n",
      "4  53  94  42\n"
     ]
    }
   ],
   "source": [
    "import numpy as np\n",
    "import pandas as pd\n",
    "data = np.random.randint(1, 101, size=(5, 3))\n",
    "df = pd.DataFrame(data)\n",
    "print(df)"
   ]
  },
  {
   "cell_type": "markdown",
   "id": "aa3c6b77-5fd3-468e-ae81-7584b5b10c79",
   "metadata": {},
   "source": [
    "## 25. Write a function that takes a Pandas DataFrame and replaces all negative values in a specific column with zeros. Use NumPy operations within the Pandas DataFrame."
   ]
  },
  {
   "cell_type": "code",
   "execution_count": 55,
   "id": "bd300374-63c7-4d5b-bd7b-fc068b0474d0",
   "metadata": {},
   "outputs": [
    {
     "name": "stdin",
     "output_type": "stream",
     "text": [
      "Enter the number of columns :  3\n",
      "Enter the number of elements in columns :  3\n",
      "Enter the column name :  a\n",
      "Enter the value for element 1 :  -1\n",
      "Enter the value for element 2 :  2\n",
      "Enter the value for element 3 :  -3\n",
      "Enter the column name :  b\n",
      "Enter the value for element 1 :  -4\n",
      "Enter the value for element 2 :  -5\n",
      "Enter the value for element 3 :  6\n",
      "Enter the column name :  c\n",
      "Enter the value for element 1 :  7\n",
      "Enter the value for element 2 :  -8\n",
      "Enter the value for element 3 :  -9\n"
     ]
    },
    {
     "name": "stdout",
     "output_type": "stream",
     "text": [
      "   a  b  c\n",
      "0 -1 -4  7\n",
      "1  2 -5 -8\n",
      "2 -3  6 -9\n"
     ]
    },
    {
     "name": "stdin",
     "output_type": "stream",
     "text": [
      "Enter the column name to convert -ve to zero :  a\n"
     ]
    },
    {
     "data": {
      "text/html": [
       "<div>\n",
       "<style scoped>\n",
       "    .dataframe tbody tr th:only-of-type {\n",
       "        vertical-align: middle;\n",
       "    }\n",
       "\n",
       "    .dataframe tbody tr th {\n",
       "        vertical-align: top;\n",
       "    }\n",
       "\n",
       "    .dataframe thead th {\n",
       "        text-align: right;\n",
       "    }\n",
       "</style>\n",
       "<table border=\"1\" class=\"dataframe\">\n",
       "  <thead>\n",
       "    <tr style=\"text-align: right;\">\n",
       "      <th></th>\n",
       "      <th>a</th>\n",
       "      <th>b</th>\n",
       "      <th>c</th>\n",
       "    </tr>\n",
       "  </thead>\n",
       "  <tbody>\n",
       "    <tr>\n",
       "      <th>0</th>\n",
       "      <td>0</td>\n",
       "      <td>-4</td>\n",
       "      <td>7</td>\n",
       "    </tr>\n",
       "    <tr>\n",
       "      <th>1</th>\n",
       "      <td>2</td>\n",
       "      <td>-5</td>\n",
       "      <td>-8</td>\n",
       "    </tr>\n",
       "    <tr>\n",
       "      <th>2</th>\n",
       "      <td>0</td>\n",
       "      <td>6</td>\n",
       "      <td>-9</td>\n",
       "    </tr>\n",
       "  </tbody>\n",
       "</table>\n",
       "</div>"
      ],
      "text/plain": [
       "   a  b  c\n",
       "0  0 -4  7\n",
       "1  2 -5 -8\n",
       "2  0  6 -9"
      ]
     },
     "execution_count": 55,
     "metadata": {},
     "output_type": "execute_result"
    }
   ],
   "source": [
    "import pandas as pd\n",
    "import numpy as np\n",
    "df=pd.DataFrame()\n",
    "n=int(input(\"Enter the number of columns : \"))\n",
    "n1=int(input(\"Enter the number of elements in columns : \"))\n",
    "for i in range(n):\n",
    "    key=input(\"Enter the column name : \")\n",
    "    list1=[]\n",
    "    for j in range(n1):\n",
    "        a=int(input(f\"Enter the value for element {j+1} : \"))\n",
    "        list1.append(a)\n",
    "    df[key]=list1\n",
    "    list1.clear()\n",
    "print(df)\n",
    "col=input(\"Enter the column name to convert -ve to zero : \")\n",
    "def df_replace(df,col):\n",
    "    df[col] = np.where(df[col] < 0, 0, df[col]) \n",
    "    return df\n",
    "df_replace(df,col)"
   ]
  },
  {
   "cell_type": "markdown",
   "id": "1a8c4444-3d07-454c-a4ac-fa64af405569",
   "metadata": {},
   "source": [
    "## 26. Access the 3rd element from the given NumPy array.\n",
    "arr = np.array([10, 20, 30, 40, 50])"
   ]
  },
  {
   "cell_type": "code",
   "execution_count": 30,
   "id": "a74664aa-299c-45f5-8f86-5a3db7840a72",
   "metadata": {},
   "outputs": [
    {
     "data": {
      "text/plain": [
       "30"
      ]
     },
     "execution_count": 30,
     "metadata": {},
     "output_type": "execute_result"
    }
   ],
   "source": [
    "import numpy as np\n",
    "arr = np.array([10, 20, 30, 40, 50])\n",
    "arr[2]"
   ]
  },
  {
   "cell_type": "markdown",
   "id": "05ff7259-8c02-46a3-bea9-5d7da3262655",
   "metadata": {},
   "source": [
    "##  27. Retrieve the element at index (1, 2) from the 2D NumPy array.\n",
    " arr_2d = np.array([[1, 2, 3], ",
    "\n",
    " [4, 5, 6], ",
    "\n",
    " [7, 8, 9]])"
   ]
  },
  {
   "cell_type": "code",
   "execution_count": 37,
   "id": "35d7a885-fdab-43c2-af78-be927f26fd7d",
   "metadata": {},
   "outputs": [
    {
     "data": {
      "text/plain": [
       "6"
      ]
     },
     "execution_count": 37,
     "metadata": {},
     "output_type": "execute_result"
    }
   ],
   "source": [
    "import numpy as np \n",
    "arr_2d = np.array([[1, 2, 3],\n",
    "                   [4, 5, 6],\n",
    "                   [7, 8, 9]])\n",
    "arr_2d[1, 2]"
   ]
  },
  {
   "cell_type": "markdown",
   "id": "b6c56fcd-4dad-4994-9c7c-05d9d0d887bc",
   "metadata": {},
   "source": [
    "##  28. Using boolean indexing, extract elements greater than 5 from the given NumPy array.\n",
    " arr = np.array([3, 8, 2, 10, 5, 7])"
   ]
  },
  {
   "cell_type": "code",
   "execution_count": 38,
   "id": "d0379ca0-db19-4aa1-bc1e-eabf261ea279",
   "metadata": {},
   "outputs": [
    {
     "data": {
      "text/plain": [
       "array([False,  True, False,  True, False,  True])"
      ]
     },
     "execution_count": 38,
     "metadata": {},
     "output_type": "execute_result"
    }
   ],
   "source": [
    "import numpy as np\n",
    "arr = np.array([3, 8, 2, 10, 5, 7])\n",
    "arr>5"
   ]
  },
  {
   "cell_type": "markdown",
   "id": "ebfb1d0c-794a-46e6-8739-e29d79f8535a",
   "metadata": {},
   "source": [
    "## 29. Perform basic slicing to extract elements from index 2 to 5 (inclusive) from the given NumPy array.\n",
    " arr = np.array([1, 2, 3, 4, 5, 6, 7, 8, 9])"
   ]
  },
  {
   "cell_type": "code",
   "execution_count": 39,
   "id": "fcefee01-633f-427e-9872-a641022bd5bd",
   "metadata": {},
   "outputs": [
    {
     "data": {
      "text/plain": [
       "array([3, 4, 5, 6])"
      ]
     },
     "execution_count": 39,
     "metadata": {},
     "output_type": "execute_result"
    }
   ],
   "source": [
    "import numpy as np\n",
    "arr = np.array([1, 2, 3, 4, 5, 6, 7, 8, 9])\n",
    "arr[2:6]"
   ]
  },
  {
   "cell_type": "markdown",
   "id": "e7f0ac7d-0bec-48a5-94f5-996db95f84b8",
   "metadata": {},
   "source": [
    "##  30. Slice the 2D NumPy array to extract the sub-array `[[2, 3], [5, 6]]` from the given array.\n",
    " arr_2d = np.array([[1, 2, 3], ",
    "\n",
    " [4, 5, 6], ",
    "\n",
    " [7, 8, 9]])"
   ]
  },
  {
   "cell_type": "code",
   "execution_count": 47,
   "id": "5a67f413-60d4-4ea6-bda6-4aa02e7f1c8e",
   "metadata": {},
   "outputs": [
    {
     "data": {
      "text/plain": [
       "array([[2, 3],\n",
       "       [5, 6]])"
      ]
     },
     "execution_count": 47,
     "metadata": {},
     "output_type": "execute_result"
    }
   ],
   "source": [
    "import numpy as np\n",
    "arr_2d = np.array([[1, 2, 3],\n",
    "                   [4, 5, 6],\n",
    "                   [7, 8, 9]])\n",
    "np.array([arr_2d[0,1:3],arr_2d[1,1:3]])"
   ]
  },
  {
   "cell_type": "markdown",
   "id": "6b6aadd3-cf8d-4fa7-8a7d-f11500155788",
   "metadata": {},
   "source": [
    "## 31. Write a NumPy function to extract elements in specific order from a given 2D array based on indices provided in another array."
   ]
  },
  {
   "cell_type": "code",
   "execution_count": 75,
   "id": "dcaceb47-8c0d-490a-bf94-73236ffbcc10",
   "metadata": {},
   "outputs": [
    {
     "name": "stdin",
     "output_type": "stream",
     "text": [
      "Enter the number of elements in array :  10\n",
      "Enter integer number :  1\n",
      "Enter integer number :  2\n",
      "Enter integer number :  3\n",
      "Enter integer number :  4\n",
      "Enter integer number :  5\n",
      "Enter integer number :  6\n",
      "Enter integer number :  7\n",
      "Enter integer number :  8\n",
      "Enter integer number :  9\n",
      "Enter integer number :  10\n"
     ]
    },
    {
     "name": "stdout",
     "output_type": "stream",
     "text": [
      "[[ 1  2  3  4  5]\n",
      " [ 6  7  8  9 10]]\n"
     ]
    },
    {
     "name": "stdin",
     "output_type": "stream",
     "text": [
      "Enter the number of elements in index array :  4\n",
      "row 0 : 0\n",
      "col 0 : 1\n",
      "row 1 : 1\n",
      "col 1 : 3\n",
      "row 2 : 0\n",
      "col 2 : 4\n",
      "row 3 : 1\n",
      "col 3 : 0\n"
     ]
    },
    {
     "name": "stdout",
     "output_type": "stream",
     "text": [
      "[[0 1]\n",
      " [1 3]\n",
      " [0 4]\n",
      " [1 0]]\n",
      "arr1[ [0 1] ] = 2\n",
      "arr1[ [1 3] ] = 9\n",
      "arr1[ [0 4] ] = 5\n",
      "arr1[ [1 0] ] = 6\n"
     ]
    }
   ],
   "source": [
    "import numpy as np\n",
    "list1=[]\n",
    "n=int(input(\"Enter the number of elements in array : \"))\n",
    "for i in range(n):\n",
    "    a=int(input(\"Enter integer number : \"))\n",
    "    list1.append(a)\n",
    "arr1=np.array(list1)\n",
    "row=int(input(\"Enter the number of row :\"))\n",
    "col=int(input(\"Enter the number of col :\"))\n",
    "arr1=arr1.reshape((row,col))\n",
    "print(arr1)\n",
    "\n",
    "n1=int(input(\"Enter the number of elements in index array : \"))\n",
    "index_lst=[]\n",
    "for i in range(n1):\n",
    "    row=int(input(f\"row {i} :\"))\n",
    "    col=int(input(f\"col {i} :\"))\n",
    "    index_lst.append((row,col))\n",
    "index_arr=np.array(index_lst)\n",
    "print(index_arr)\n",
    "\n",
    "for i in index_arr:\n",
    "    print(\"arr1[\",i,\"] =\",arr1[i[0],i[1]])"
   ]
  },
  {
   "cell_type": "markdown",
   "id": "0de69356-7733-46d9-af01-f72c65c1d955",
   "metadata": {},
   "source": [
    "##  32. Create a NumPy function that filters elements greater than a threshold from a given 1D array using boolean indexing."
   ]
  },
  {
   "cell_type": "code",
   "execution_count": 78,
   "id": "03f03541-098a-4875-a4d8-17c7900edb54",
   "metadata": {},
   "outputs": [
    {
     "name": "stdin",
     "output_type": "stream",
     "text": [
      "Enter the number of elements in array :  10\n",
      "Enter integer number :  -9\n",
      "Enter integer number :  5\n",
      "Enter integer number :  9\n",
      "Enter integer number :  2\n",
      "Enter integer number :  7\n",
      "Enter integer number :  2\n",
      "Enter integer number :  7\n",
      "Enter integer number :  1\n",
      "Enter integer number :  2\n",
      "Enter integer number :  5\n"
     ]
    },
    {
     "name": "stdout",
     "output_type": "stream",
     "text": [
      "[-9  5  9  2  7  2  7  1  2  5]\n"
     ]
    },
    {
     "name": "stdin",
     "output_type": "stream",
     "text": [
      "Enter the threshold : 5\n"
     ]
    },
    {
     "data": {
      "text/plain": [
       "array([9, 7, 7])"
      ]
     },
     "execution_count": 78,
     "metadata": {},
     "output_type": "execute_result"
    }
   ],
   "source": [
    "import numpy as np\n",
    "list1=[]\n",
    "n=int(input(\"Enter the number of elements in array : \"))\n",
    "for i in range(n):\n",
    "    a=int(input(\"Enter integer number : \"))\n",
    "    list1.append(a)\n",
    "arr1=np.array(list1)\n",
    "print(arr1)\n",
    "a=int(input(\"Enter the threshold :\"))\n",
    "def filter(arr1,a):\n",
    "    return arr1[arr1>a]\n",
    "filter(arr1,a)"
   ]
  },
  {
   "cell_type": "markdown",
   "id": "b25b0abf-ea2d-4d0d-b365-70348cb38a1e",
   "metadata": {},
   "source": [
    "##  33. Develop a NumPy function that extracts specific elements from a 3D array using indices provided in three separate arrays for each dimension."
   ]
  },
  {
   "cell_type": "code",
   "execution_count": 117,
   "id": "3e22a501-895d-40bc-9373-4ee60378722e",
   "metadata": {},
   "outputs": [
    {
     "name": "stdin",
     "output_type": "stream",
     "text": [
      "Enter the number of elements in array :  12\n",
      "Enter integer number :  1\n",
      "Enter integer number :  2\n",
      "Enter integer number :  3\n",
      "Enter integer number :  4\n",
      "Enter integer number :  5\n",
      "Enter integer number :  6\n",
      "Enter integer number :  7\n",
      "Enter integer number :  8\n",
      "Enter integer number :  9\n",
      "Enter integer number :  10\n",
      "Enter integer number :  11\n",
      "Enter integer number :  12\n",
      "Enter the shape in the following format (e1,e2,e3) :  (2,3,2)\n"
     ]
    },
    {
     "name": "stdout",
     "output_type": "stream",
     "text": [
      "(2, 3, 2)\n",
      "[[[ 1  2]\n",
      "  [ 3  4]\n",
      "  [ 5  6]]\n",
      "\n",
      " [[ 7  8]\n",
      "  [ 9 10]\n",
      "  [11 12]]]\n"
     ]
    },
    {
     "name": "stdin",
     "output_type": "stream",
     "text": [
      "Enter the number of elements :  3\n"
     ]
    },
    {
     "name": "stdout",
     "output_type": "stream",
     "text": [
      "Index arrays 1 \n"
     ]
    },
    {
     "name": "stdin",
     "output_type": "stream",
     "text": [
      "Enter the value for element 1 :  0\n",
      "Enter the value for element 2 :  1\n",
      "Enter the value for element 3 :  0\n"
     ]
    },
    {
     "name": "stdout",
     "output_type": "stream",
     "text": [
      "[0 1 0]\n",
      "Index arrays 2 \n"
     ]
    },
    {
     "name": "stdin",
     "output_type": "stream",
     "text": [
      "Enter the value for element 1 :  0\n",
      "Enter the value for element 2 :  1\n",
      "Enter the value for element 3 :  2\n"
     ]
    },
    {
     "name": "stdout",
     "output_type": "stream",
     "text": [
      "[0 1 2]\n",
      "Index arrays 3 \n"
     ]
    },
    {
     "name": "stdin",
     "output_type": "stream",
     "text": [
      "Enter the value for element 1 :  1\n",
      "Enter the value for element 2 :  0\n",
      "Enter the value for element 3 :  1\n"
     ]
    },
    {
     "name": "stdout",
     "output_type": "stream",
     "text": [
      "[1 0 1]\n"
     ]
    },
    {
     "data": {
      "text/plain": [
       "array([2, 9, 6])"
      ]
     },
     "execution_count": 117,
     "metadata": {},
     "output_type": "execute_result"
    }
   ],
   "source": [
    "import numpy as np\n",
    "list1=[]\n",
    "n=int(input(\"Enter the number of elements in array : \"))\n",
    "for i in range(n):\n",
    "    a=int(input(\"Enter integer number : \"))\n",
    "    list1.append(a)\n",
    "arr1=np.array(list1)\n",
    "\n",
    "a=input(\"Enter the shape in the following format (e1,e2,e3) : \")\n",
    "a=a.split(\",\")\n",
    "a[0]=a[0][1:]\n",
    "a[-1]=a[-1][:-1]\n",
    "a=tuple(map(int,a))\n",
    "print(a)\n",
    "\n",
    "arr1=arr1.reshape(a[0],a[1],a[2])\n",
    "print(arr1)\n",
    "\n",
    "n1=int(input(\"Enter the number of elements : \"))\n",
    "print(\"Index arrays 1 \")\n",
    "list1=[int(input(f\"Enter the value for element {i+1} : \")) for i in range(n1)]\n",
    "arr2=np.array(list1)\n",
    "print(arr2)\n",
    "print(\"Index arrays 2 \")\n",
    "list2=[int(input(f\"Enter the value for element {i+1} : \")) for i in range(n1)]\n",
    "arr3=np.array(list2)\n",
    "print(arr3)\n",
    "print(\"Index arrays 3 \")\n",
    "list3=[int(input(f\"Enter the value for element {i+1} : \")) for i in range(n1)]\n",
    "arr4=np.array(list3)\n",
    "print(arr4)\n",
    "\n",
    "list4=[arr1[arr2[i],arr3[i],arr4[i]] for i in range(n1)]\n",
    "arr5=np.array(list4)\n",
    "arr5"
   ]
  },
  {
   "cell_type": "markdown",
   "id": "4f18c823-600c-4801-b6af-76f69cc18763",
   "metadata": {},
   "source": [
    "##  34. Write a NumPy function that returns elements from an array where both two conditions are satisfied using boolean indexing."
   ]
  },
  {
   "cell_type": "code",
   "execution_count": 127,
   "id": "fcab4686-3685-4691-a45c-7746dfd17856",
   "metadata": {},
   "outputs": [
    {
     "name": "stdin",
     "output_type": "stream",
     "text": [
      "Enter the number of elements in array :  6\n",
      "Enter integer number :  1\n",
      "Enter integer number :  6\n",
      "Enter integer number :  7\n",
      "Enter integer number :  3\n",
      "Enter integer number :  8\n",
      "Enter integer number :  12\n",
      "Enter the number of row : 2\n",
      "Enter the number of col : 3\n"
     ]
    },
    {
     "data": {
      "text/plain": [
       "array([ 6,  8, 12])"
      ]
     },
     "execution_count": 127,
     "metadata": {},
     "output_type": "execute_result"
    }
   ],
   "source": [
    "import numpy as np\n",
    "list1=[]\n",
    "n=int(input(\"Enter the number of elements in array : \"))\n",
    "for i in range(n):\n",
    "    a=int(input(\"Enter integer number : \"))\n",
    "    list1.append(a)\n",
    "arr1=np.array(list1)\n",
    "row=int(input(\"Enter the number of row :\"))\n",
    "col=int(input(\"Enter the number of col :\"))\n",
    "arr1=arr1.reshape((row,col))\n",
    "def condition_arr(arr1):\n",
    "    return arr1[(arr1>2) & (arr1%2==0)]\n",
    "condition_arr(arr1)"
   ]
  },
  {
   "cell_type": "markdown",
   "id": "c1979f1f-3c4c-4582-bd22-22b7623c3b92",
   "metadata": {},
   "source": [
    "##  35. Create a NumPy function that extracts elements from a 2D array using row and column indices provided in separate arrays."
   ]
  },
  {
   "cell_type": "code",
   "execution_count": 129,
   "id": "e1b9e041-eae2-422e-a4e9-7e29115e5cc0",
   "metadata": {},
   "outputs": [
    {
     "name": "stdin",
     "output_type": "stream",
     "text": [
      "Enter the number of elements in array :  12\n",
      "Enter integer number :  1\n",
      "Enter integer number :  2\n",
      "Enter integer number :  3\n",
      "Enter integer number :  4\n",
      "Enter integer number :  5\n",
      "Enter integer number :  6\n",
      "Enter integer number :  7\n",
      "Enter integer number :  8\n",
      "Enter integer number :  9\n",
      "Enter integer number :  10\n",
      "Enter integer number :  11\n",
      "Enter integer number :  12\n",
      "Enter the shape in the following format (e1,e2) :  (4,3)\n"
     ]
    },
    {
     "name": "stdout",
     "output_type": "stream",
     "text": [
      "(4, 3)\n",
      "[[ 1  2  3]\n",
      " [ 4  5  6]\n",
      " [ 7  8  9]\n",
      " [10 11 12]]\n"
     ]
    },
    {
     "name": "stdin",
     "output_type": "stream",
     "text": [
      "Enter the number of elements :  3\n"
     ]
    },
    {
     "name": "stdout",
     "output_type": "stream",
     "text": [
      "Index arrays 1 \n"
     ]
    },
    {
     "name": "stdin",
     "output_type": "stream",
     "text": [
      "Enter the value for element 1 :  0\n",
      "Enter the value for element 2 :  1\n",
      "Enter the value for element 3 :  3\n"
     ]
    },
    {
     "name": "stdout",
     "output_type": "stream",
     "text": [
      "[0 1 3]\n",
      "Index arrays 2 \n"
     ]
    },
    {
     "name": "stdin",
     "output_type": "stream",
     "text": [
      "Enter the value for element 1 :  2\n",
      "Enter the value for element 2 :  1\n",
      "Enter the value for element 3 :  0\n"
     ]
    },
    {
     "name": "stdout",
     "output_type": "stream",
     "text": [
      "[2 1 0]\n"
     ]
    },
    {
     "data": {
      "text/plain": [
       "array([ 3,  5, 10])"
      ]
     },
     "execution_count": 129,
     "metadata": {},
     "output_type": "execute_result"
    }
   ],
   "source": [
    "import numpy as np\n",
    "list1=[]\n",
    "n=int(input(\"Enter the number of elements in array : \"))\n",
    "for i in range(n):\n",
    "    a=int(input(\"Enter integer number : \"))\n",
    "    list1.append(a)\n",
    "arr1=np.array(list1)\n",
    "\n",
    "a=input(\"Enter the shape in the following format (e1,e2) : \")#c\n",
    "a=a.split(\",\")\n",
    "a[0]=a[0][1:]\n",
    "a[-1]=a[-1][:-1]\n",
    "a=tuple(map(int,a))\n",
    "print(a)\n",
    "\n",
    "arr1=arr1.reshape(a[0],a[1])\n",
    "print(arr1)\n",
    "\n",
    "n1=int(input(\"Enter the number of elements : \"))\n",
    "print(\"Index arrays 1 \")\n",
    "list1=[int(input(f\"Enter the value for element {i+1} : \")) for i in range(n1)]\n",
    "arr2=np.array(list1)\n",
    "print(arr2)\n",
    "print(\"Index arrays 2 \")\n",
    "list2=[int(input(f\"Enter the value for element {i+1} : \")) for i in range(n1)]\n",
    "arr3=np.array(list2)\n",
    "print(arr3)\n",
    "\n",
    "\n",
    "list4=[arr1[arr2[i],arr3[i]] for i in range(n1)]\n",
    "arr5=np.array(list4)\n",
    "arr5"
   ]
  },
  {
   "cell_type": "markdown",
   "id": "8c73e4a3-9710-42bd-bf63-86745f7baa47",
   "metadata": {},
   "source": [
    "##  36. Given an array arr of shape (3, 3), add a scalar value of 5 to each element using NumPy broadcasting."
   ]
  },
  {
   "cell_type": "code",
   "execution_count": 131,
   "id": "9f670d59-7f03-4110-886b-c7bd389bdd77",
   "metadata": {},
   "outputs": [
    {
     "name": "stdin",
     "output_type": "stream",
     "text": [
      "Enter integer number :  1\n",
      "Enter integer number :  2\n",
      "Enter integer number :  3\n",
      "Enter integer number :  4\n",
      "Enter integer number :  5\n",
      "Enter integer number :  6\n",
      "Enter integer number :  7\n",
      "Enter integer number :  8\n",
      "Enter integer number :  9\n"
     ]
    },
    {
     "name": "stdout",
     "output_type": "stream",
     "text": [
      "[[1 2 3]\n",
      " [4 5 6]\n",
      " [7 8 9]]\n",
      "[[ 6  7  8]\n",
      " [ 9 10 11]\n",
      " [12 13 14]]\n"
     ]
    }
   ],
   "source": [
    "import numpy as np\n",
    "list1=[]\n",
    "for i in range(9):\n",
    "    a=int(input(\"Enter integer number : \"))\n",
    "    list1.append(a)\n",
    "arr1=np.array(list1)\n",
    "arr1=arr1.reshape(3,3)\n",
    "print(arr1)\n",
    "arr1=arr1+5\n",
    "print(arr1)"
   ]
  },
  {
   "cell_type": "markdown",
   "id": "425351a2-585b-4abc-a6f4-0a14a31deb1c",
   "metadata": {},
   "source": [
    "##  37. Consider two arrays arr1 of shape (1, 3) and arr2 of shape (3, 4). Multiply each row of arr2 by the corresponding element in arr1 using NumPy broadcasting."
   ]
  },
  {
   "cell_type": "code",
   "execution_count": 14,
   "id": "8c888b2e-22d4-464c-8898-11f814a4a1ae",
   "metadata": {},
   "outputs": [
    {
     "name": "stdout",
     "output_type": "stream",
     "text": [
      "arr1:\n",
      "[[1 2 3]]\n",
      "\n",
      "arr2:\n",
      "[[ 1  2  3  4]\n",
      " [ 5  6  7  8]\n",
      " [ 9 10 11 12]]\n",
      "\n",
      "Result of broadcasting multiplication:\n",
      "[[ 1  2  3  4]\n",
      " [10 12 14 16]\n",
      " [27 30 33 36]]\n"
     ]
    }
   ],
   "source": [
    "import numpy as np\n",
    "\n",
    "# Input for arr1 (1x3 array)\n",
    "arr1 = np.array([1, 2, 3]).reshape(1, 3)\n",
    "print(\"arr1:\")\n",
    "print(arr1)\n",
    "\n",
    "# Input for arr2 (3x4 array)\n",
    "arr2 = np.array([[1, 2, 3, 4],\n",
    "                 [5, 6, 7, 8],\n",
    "                 [9, 10, 11, 12]])\n",
    "print(\"\\narr2:\")\n",
    "print(arr2)\n",
    "\n",
    "# Reshape arr1 to (3, 1) to match the broadcasting shape\n",
    "arr1_reshaped = arr1.reshape(3, 1)\n",
    "\n",
    "# Multiply each row of arr2 by the corresponding element in arr1 using broadcasting\n",
    "result = arr2 * arr1_reshaped\n",
    "\n",
    "print(\"\\nResult of broadcasting multiplication:\")\n",
    "print(result)\n"
   ]
  },
  {
   "cell_type": "markdown",
   "id": "32ee2c8f-c358-471c-b4a0-3ac5f8ebf84c",
   "metadata": {},
   "source": [
    "##  38. Given a 1D array arr1 of shape (1, 4) and a 2D array arr2 of shape (4, 3), add arr1 to each row of arr2 using NumPy broadcasting."
   ]
  },
  {
   "cell_type": "code",
   "execution_count": 16,
   "id": "d2be4246-df6c-45b1-953b-4d167c6cc346",
   "metadata": {},
   "outputs": [
    {
     "name": "stdout",
     "output_type": "stream",
     "text": [
      "arr1:\n",
      "[[1 2 3 4]]\n",
      "\n",
      "arr2:\n",
      "[[ 1  2  3]\n",
      " [ 4  5  6]\n",
      " [ 7  8  9]\n",
      " [10 11 12]]\n",
      "\n",
      "Broadcasted arr1:\n",
      "[[1]\n",
      " [2]\n",
      " [3]\n",
      " [4]]\n",
      "\n",
      "Result of broadcasting addition:\n",
      "[[ 2  3  4]\n",
      " [ 6  7  8]\n",
      " [10 11 12]\n",
      " [14 15 16]]\n"
     ]
    }
   ],
   "source": [
    "import numpy as np\n",
    "\n",
    "# Input for arr1 (1x4 array)\n",
    "arr1 = np.array([1, 2, 3, 4]).reshape(1, 4)\n",
    "print(\"arr1:\")\n",
    "print(arr1)\n",
    "\n",
    "# Input for arr2 (4x3 array)\n",
    "arr2 = np.array([[1, 2, 3],\n",
    "                 [4, 5, 6],\n",
    "                 [7, 8, 9],\n",
    "                 [10, 11, 12]])\n",
    "print(\"\\narr2:\")\n",
    "print(arr2)\n",
    "\n",
    "# Transpose arr1 to match the shape of arr2 for broadcasting\n",
    "arr1_broadcasted = arr1.T  # Transpose to get a (4x1) array\n",
    "print(\"\\nBroadcasted arr1:\")\n",
    "print(arr1_broadcasted)\n",
    "\n",
    "# Add arr1 to each row of arr2 using broadcasting\n",
    "result = arr2 + arr1_broadcasted\n",
    "\n",
    "print(\"\\nResult of broadcasting addition:\")\n",
    "print(result)\n"
   ]
  },
  {
   "cell_type": "markdown",
   "id": "028c9dd2-a5a0-4b22-8645-186c11b7d32c",
   "metadata": {},
   "source": [
    "##  39. Consider two arrays arr1 of shape (3, 1) and arr2 of shape (1, 3). Add these arrays using NumPy broadcasting."
   ]
  },
  {
   "cell_type": "code",
   "execution_count": 143,
   "id": "ddc6cf61-f78a-47c7-8824-49f4e85f23f9",
   "metadata": {},
   "outputs": [
    {
     "name": "stdin",
     "output_type": "stream",
     "text": [
      "Enter integer number :  1\n",
      "Enter integer number :  2\n",
      "Enter integer number :  3\n"
     ]
    },
    {
     "name": "stdout",
     "output_type": "stream",
     "text": [
      "[[1 2 3]]\n"
     ]
    },
    {
     "name": "stdin",
     "output_type": "stream",
     "text": [
      "Enter integer number :  4\n",
      "Enter integer number :  5\n",
      "Enter integer number :  6\n"
     ]
    },
    {
     "name": "stdout",
     "output_type": "stream",
     "text": [
      "[[4]\n",
      " [5]\n",
      " [6]]\n"
     ]
    },
    {
     "data": {
      "text/plain": [
       "array([[5, 6, 7],\n",
       "       [6, 7, 8],\n",
       "       [7, 8, 9]])"
      ]
     },
     "execution_count": 143,
     "metadata": {},
     "output_type": "execute_result"
    }
   ],
   "source": [
    "import numpy as np\n",
    "list1=[]\n",
    "for i in range(3):\n",
    "    a=int(input(\"Enter integer number : \"))\n",
    "    list1.append(a)\n",
    "arr1=np.array(list1).reshape(1,3)\n",
    "print(arr1)  \n",
    "list2=[]\n",
    "for i in range(3):\n",
    "    a=int(input(\"Enter integer number : \"))\n",
    "    list2.append(a)\n",
    "arr2=np.array(list2).reshape(3,1)\n",
    "print(arr2)  \n",
    "arr1+arr2"
   ]
  },
  {
   "cell_type": "markdown",
   "id": "75f5b6b4-8534-4963-844d-d94a5254f080",
   "metadata": {},
   "source": [
    "##  40. Given arrays arr1 of shape (2, 3) and arr2 of shape (2, 2), perform multiplication using NumPy broadcasting. Handle the shape incompatibility."
   ]
  },
  {
   "cell_type": "code",
   "execution_count": 17,
   "id": "ffd5f906-ca9a-4cfa-b8e0-26ee07486201",
   "metadata": {},
   "outputs": [
    {
     "name": "stdout",
     "output_type": "stream",
     "text": [
      "arr1 shape: (2, 3)\n",
      "arr2 shape: (2, 2)\n",
      "\n",
      "Result of broadcasting multiplication:\n",
      "[[[ 1  2]\n",
      "  [ 2  4]\n",
      "  [ 3  6]]\n",
      "\n",
      " [[12 16]\n",
      "  [15 20]\n",
      "  [18 24]]]\n"
     ]
    }
   ],
   "source": [
    "import numpy as np\n",
    "\n",
    "# Define arr1 and arr2\n",
    "arr1 = np.array([[1, 2, 3],\n",
    "                 [4, 5, 6]])  # shape (2, 3)\n",
    "arr2 = np.array([[1, 2],\n",
    "                 [3, 4]])     # shape (2, 2)\n",
    "\n",
    "# Check the shapes\n",
    "print(\"arr1 shape:\", arr1.shape)\n",
    "print(\"arr2 shape:\", arr2.shape)\n",
    "\n",
    "# Reshape arr1 to (2, 3, 1) and arr2 to (2, 1, 2) for broadcasting\n",
    "arr1_reshaped = arr1[:, :, np.newaxis]  # shape (2, 3, 1)\n",
    "arr2_reshaped = arr2[:, np.newaxis, :]  # shape (2, 1, 2)\n",
    "\n",
    "# Perform element-wise multiplication using broadcasting\n",
    "result = arr1_reshaped * arr2_reshaped  # shape (2, 3, 2)\n",
    "\n",
    "# Print the result\n",
    "print(\"\\nResult of broadcasting multiplication:\")\n",
    "print(result)\n"
   ]
  },
  {
   "cell_type": "markdown",
   "id": "3cf1953e-6687-4fd3-aef5-e86478c8c81f",
   "metadata": {},
   "source": [
    "##  41. Calculate column-wise mean for the given array:\n",
    " arr = np.array([[1, 2, 3], [4, 5, 6]])"
   ]
  },
  {
   "cell_type": "code",
   "execution_count": 155,
   "id": "6f34c822-3b0c-4d2b-9a53-67201095d5ad",
   "metadata": {},
   "outputs": [
    {
     "data": {
      "text/plain": [
       "array([2.5, 3.5, 4.5])"
      ]
     },
     "execution_count": 155,
     "metadata": {},
     "output_type": "execute_result"
    }
   ],
   "source": [
    "import numpy as np\n",
    "arr = np.array([[1, 2, 3], \n",
    "                [4, 5, 6]])\n",
    "np.mean(arr,axis=0)"
   ]
  },
  {
   "cell_type": "markdown",
   "id": "618bc62c-c489-4e49-b16e-854e62270efe",
   "metadata": {},
   "source": [
    "##  42. Find maximum value in each row of the given array:\n",
    " arr = np.array([[1, 2, 3], [4, 5, 6]])"
   ]
  },
  {
   "cell_type": "code",
   "execution_count": 157,
   "id": "a5610ee4-d0fe-48de-b60e-7f4496b39252",
   "metadata": {},
   "outputs": [
    {
     "data": {
      "text/plain": [
       "array([3, 6])"
      ]
     },
     "execution_count": 157,
     "metadata": {},
     "output_type": "execute_result"
    }
   ],
   "source": [
    "import numpy as np\n",
    "arr = np.array([[1, 2, 3], [4, 5, 6]])\n",
    "np.max(arr,axis=1)"
   ]
  },
  {
   "cell_type": "markdown",
   "id": "4306c0a4-abc2-423d-a252-43436603261b",
   "metadata": {},
   "source": [
    "## 43. For the given array, find indices of maximum value in each column.\n",
    " arr = np.array([[1, 2, 3], [4, 5, 6]])"
   ]
  },
  {
   "cell_type": "code",
   "execution_count": 39,
   "id": "43abf0b2-d39f-4412-8eeb-becef8be98a6",
   "metadata": {},
   "outputs": [
    {
     "name": "stdout",
     "output_type": "stream",
     "text": [
      "[1 1 1]\n"
     ]
    }
   ],
   "source": [
    "import numpy as np\n",
    "arr = np.array([[1, 2, 3], [4, 5, 6]])\n",
    "max_indices = np.argmax(arr, axis=0)\n",
    "\n",
    "print(max_indices)"
   ]
  },
  {
   "cell_type": "markdown",
   "id": "8d74b67c-902e-4be8-823e-9f2df0cb8138",
   "metadata": {},
   "source": [
    "##  44. For the given array, apply custom function to calculate moving sum along rows.\n",
    " arr = np.array([[1, 2, 3], [4, 5, 6]])"
   ]
  },
  {
   "cell_type": "code",
   "execution_count": 18,
   "id": "73c6059d-5f93-4f89-a56b-7d0e6ad6e523",
   "metadata": {},
   "outputs": [
    {
     "name": "stdout",
     "output_type": "stream",
     "text": [
      "Original array:\n",
      "[[1 2 3]\n",
      " [4 5 6]]\n",
      "\n",
      "Moving sum along rows with window size 2:\n",
      "[[nan  3.  5.]\n",
      " [nan  9. 11.]]\n"
     ]
    },
    {
     "name": "stderr",
     "output_type": "stream",
     "text": [
      "C:\\Users\\bluea\\AppData\\Local\\Temp\\ipykernel_20548\\2255810926.py:12: FutureWarning: Support for axis=1 in DataFrame.rolling is deprecated and will be removed in a future version. Use obj.T.rolling(...) instead\n",
      "  moving_sum_df = df.rolling(window=2, axis=1).sum()\n"
     ]
    }
   ],
   "source": [
    "import numpy as np\n",
    "import pandas as pd\n",
    "\n",
    "# Define the array arr\n",
    "arr = np.array([[1, 2, 3],\n",
    "                [4, 5, 6]])\n",
    "\n",
    "# Convert the NumPy array to a pandas DataFrame\n",
    "df = pd.DataFrame(arr)\n",
    "\n",
    "# Calculate the moving sum along rows with window size 2\n",
    "moving_sum_df = df.rolling(window=2, axis=1).sum()\n",
    "\n",
    "# Convert the pandas DataFrame back to a NumPy array\n",
    "result = moving_sum_df.to_numpy()\n",
    "\n",
    "print(\"Original array:\")\n",
    "print(arr)\n",
    "print(\"\\nMoving sum along rows with window size 2:\")\n",
    "print(result)\n"
   ]
  },
  {
   "cell_type": "markdown",
   "id": "d6a43ba1-c26c-4de0-8cb7-e265ef90b04e",
   "metadata": {},
   "source": [
    "##  45. In the given array, check if all elements in each column are even.\n",
    " arr = np.array([[2, 4, 6], [3, 5, 7]])"
   ]
  },
  {
   "cell_type": "code",
   "execution_count": 23,
   "id": "48729f54-781e-41cd-bc63-9bffab202791",
   "metadata": {},
   "outputs": [
    {
     "name": "stdout",
     "output_type": "stream",
     "text": [
      "Not all elements in each column are even.\n"
     ]
    }
   ],
   "source": [
    "import numpy as np\n",
    "\n",
    "arr = np.array([[2, 4, 6], \n",
    "                [3, 5, 7]])\n",
    "\n",
    "# Get the dimensions of the array\n",
    "rows, cols = arr.shape\n",
    "\n",
    "# Initialize a flag to check if all elements in each column are even\n",
    "all_even = True\n",
    "\n",
    "# Iterate over each column\n",
    "for col in range(cols):\n",
    "    # Initialize a flag for the current column\n",
    "    column_even = True\n",
    "    # Iterate over each element in the current column\n",
    "    for row in range(rows):\n",
    "        # Check if the element is even\n",
    "        if arr[row, col] % 2 != 0:\n",
    "            column_even = False\n",
    "            break\n",
    "    # If any element in the column is not even, set the flag to False\n",
    "    if not column_even:\n",
    "        all_even = False\n",
    "        break\n",
    "\n",
    "# Output the result\n",
    "if all_even:\n",
    "    print(\"All elements in each column are even.\")\n",
    "else:\n",
    "    print(\"Not all elements in each column are even.\")\n"
   ]
  },
  {
   "cell_type": "markdown",
   "id": "12ce282a-fc90-44c3-bcf8-283e508dadd6",
   "metadata": {},
   "source": [
    "## 46. Given a NumPy array arr, reshape it into a matrix of dimensions `m` rows and `n` columns. Return the reshaped matrix.\n",
    " original_array = np.array([1, 2, 3, 4, 5, 6])"
   ]
  },
  {
   "cell_type": "code",
   "execution_count": 173,
   "id": "82a611e5-a670-4741-90e2-3a20f8adc7c8",
   "metadata": {},
   "outputs": [
    {
     "name": "stdin",
     "output_type": "stream",
     "text": [
      "row = : 3\n",
      "col = : 2\n"
     ]
    },
    {
     "data": {
      "text/plain": [
       "matrix([[1, 2],\n",
       "        [3, 4],\n",
       "        [5, 6]])"
      ]
     },
     "execution_count": 173,
     "metadata": {},
     "output_type": "execute_result"
    }
   ],
   "source": [
    "import numpy as np\n",
    "original_array = np.array([1, 2, 3, 4, 5, 6])\n",
    "row=int(input(\"row = :\"))\n",
    "col=int(input(\"col = :\"))\n",
    "np.matrix(original_array).reshape(row,col)"
   ]
  },
  {
   "cell_type": "markdown",
   "id": "ea055b20-4118-401f-a2ac-f10aa79cc3ab",
   "metadata": {},
   "source": [
    "##  47. Create a function that takes a matrix as input and returns the flattened array.\n",
    " input_matrix = np.array([[1, 2, 3], [4, 5, 6]])"
   ]
  },
  {
   "cell_type": "code",
   "execution_count": 174,
   "id": "f21883c1-bc11-4a8b-92ab-3dd00df2888a",
   "metadata": {},
   "outputs": [
    {
     "data": {
      "text/plain": [
       "array([1, 2, 3, 4, 5, 6])"
      ]
     },
     "execution_count": 174,
     "metadata": {},
     "output_type": "execute_result"
    }
   ],
   "source": [
    "import numpy as np\n",
    "input_matrix = np.array([[1, 2, 3], [4, 5, 6]])\n",
    "def flattene_arr(arr):\n",
    "    return arr.flatten()\n",
    "flattene_arr(input_matrix)"
   ]
  },
  {
   "cell_type": "markdown",
   "id": "358793ee-da57-4eea-955f-4e368758efa1",
   "metadata": {},
   "source": [
    "## 48. Write a function that concatenates two given arrays along a specified axis.\n",
    " array1 = np.array([[1, 2], [3, 4]]) ",
    "\n",
    " array2 = np.array([[5, 6], [7, 8]])"
   ]
  },
  {
   "cell_type": "code",
   "execution_count": 177,
   "id": "548df8ca-cf3a-4386-91a7-d7f3c31c925e",
   "metadata": {},
   "outputs": [
    {
     "name": "stdin",
     "output_type": "stream",
     "text": [
      "axis :  1\n"
     ]
    },
    {
     "data": {
      "text/plain": [
       "array([[1, 2, 5, 6],\n",
       "       [3, 4, 7, 8]])"
      ]
     },
     "execution_count": 177,
     "metadata": {},
     "output_type": "execute_result"
    }
   ],
   "source": [
    "import numpy as np\n",
    "array1 = np.array([[1, 2], [3, 4]])\n",
    "array2 = np.array([[5, 6], [7, 8]])\n",
    "axis=int(input(\"axis : \"))\n",
    "def concatenate_arr(array1,array2,axis):\n",
    "    return np.concatenate((array1,array2),axis=axis)\n",
    "concatenate_arr(array1,array2,axis)"
   ]
  },
  {
   "cell_type": "markdown",
   "id": "55610741-8829-461f-b1c1-3919fa309bac",
   "metadata": {},
   "source": [
    "##  49. Create a function that splits an array into multiple sub-arrays along a specified axis.\n",
    " original_array = np.array([[1, 2, 3], [4, 5, 6], [7, 8, 9]])"
   ]
  },
  {
   "cell_type": "code",
   "execution_count": 43,
   "id": "ad614301-5caa-417a-8495-d5a95c3179a8",
   "metadata": {},
   "outputs": [
    {
     "data": {
      "text/plain": [
       "[array([[1, 2, 3]]), array([[4, 5, 6]]), array([[7, 8, 9]])]"
      ]
     },
     "execution_count": 43,
     "metadata": {},
     "output_type": "execute_result"
    }
   ],
   "source": [
    "import numpy as np\n",
    "original_array = np.array([[1, 2, 3], [4, 5, 6], [7, 8, 9]])\n",
    "np.split(original_array,3,axis=0)"
   ]
  },
  {
   "cell_type": "markdown",
   "id": "23a67ef6-86cf-42ce-89dc-1351befae3f8",
   "metadata": {},
   "source": [
    "##  50. Write a function that inserts and then deletes elements from a given array at specified indices.\n",
    " original_array = np.array([1, 2, 3, 4, 5]) ",
    "\n",
    " \n",
    " indices_to_insert = [2, 4] ",
    "\n",
    " \n",
    " values_to_insert = [10, 11] ",
    "\n",
    " \n",
    " indices_to_delete = [1, 3] "
   ]
  },
  {
   "cell_type": "code",
   "execution_count": 29,
   "id": "4c560bd3-8501-4a28-89b4-cd8f6b0da065",
   "metadata": {},
   "outputs": [
    {
     "data": {
      "text/plain": [
       "array([ 1, 10,  3,  4,  5])"
      ]
     },
     "execution_count": 29,
     "metadata": {},
     "output_type": "execute_result"
    }
   ],
   "source": [
    "import numpy as np\n",
    "original_array = np.array([1, 2, 3, 4, 5])\n",
    "indices_to_insert = [2, 4]\n",
    "values_to_insert = [10, 11]\n",
    "indices_to_delete = [1, 3]\n",
    "\n",
    "original_array = np.insert(original_array,indices_to_insert[0],values_to_insert[0])\n",
    "original_array = np.insert(original_array,indices_to_insert[1],values_to_insert[1])\n",
    "\n",
    "original_array = np.delete(original_array,indices_to_delete[0])\n",
    "original_array = np.delete(original_array,indices_to_delete[1])\n",
    "\n",
    "original_array"
   ]
  },
  {
   "cell_type": "markdown",
   "id": "9b4b07b7-b080-4cf7-8a22-5d3314d58289",
   "metadata": {},
   "source": [
    "## 51. Create a NumPy array `arr1` with random integers and another array `arr2` with integers from 1 to 10. Perform element-wise addition between `arr1` and `arr2`."
   ]
  },
  {
   "cell_type": "code",
   "execution_count": 167,
   "id": "96401c92-100e-4d9a-b998-f5e75fb59387",
   "metadata": {},
   "outputs": [
    {
     "name": "stdout",
     "output_type": "stream",
     "text": [
      "[7 6 1 7 1 9 8 1 7 9]\n",
      "[4 9 3 5 3 1 3 3 8 5]\n",
      "[11 15  4 12  4 10 11  4 15 14]\n"
     ]
    }
   ],
   "source": [
    "import numpy as np\n",
    "arr1=np.array([np.random.randint(1,11) for i in range(10)])\n",
    "print(arr1)\n",
    "arr2=np.array([np.random.randint(1,11) for i in range(10)])\n",
    "print(arr2)\n",
    "print(arr1+arr2)"
   ]
  },
  {
   "cell_type": "markdown",
   "id": "ac1c2454-5a22-46b2-b11a-7945bc58e93b",
   "metadata": {},
   "source": [
    "##  52. Generate a NumPy array `arr1` with sequential integers from 10 to 1 and another array `arr2` with integers from 1 to 10. Subtract `arr2` from `arr1` element-wise."
   ]
  },
  {
   "cell_type": "code",
   "execution_count": 170,
   "id": "3fe29c72-41bd-4a8a-a553-d02a7b749426",
   "metadata": {},
   "outputs": [
    {
     "name": "stdout",
     "output_type": "stream",
     "text": [
      "[10  9  8  7  6  5  4  3  2  1]\n",
      "[ 1  2  3  4  5  6  7  8  9 10]\n",
      "[ 9  7  5  3  1 -1 -3 -5 -7 -9]\n"
     ]
    }
   ],
   "source": [
    "import numpy as np\n",
    "arr1=np.arange(10,0,-1)\n",
    "print(arr1)\n",
    "arr2=np.arange(1,11)\n",
    "print(arr2)\n",
    "print(arr1-arr2)"
   ]
  },
  {
   "cell_type": "markdown",
   "id": "798fbe16-1f7f-4cdb-839a-576de6dc6345",
   "metadata": {},
   "source": [
    "##  53. Create a NumPy array `arr1` with random integers and another array `arr2` with integers from 1 to 5. Perform element-wise multiplication between `arr1` and `arr2`."
   ]
  },
  {
   "cell_type": "code",
   "execution_count": 171,
   "id": "83d1fe97-aed3-4b10-b51c-9ac90b2b322d",
   "metadata": {},
   "outputs": [
    {
     "name": "stdout",
     "output_type": "stream",
     "text": [
      "[4 5 1 1 4 4 3 2 4 3]\n",
      "[5 5 4 2 5 3 3 1 5 2]\n",
      "[20 25  4  2 20 12  9  2 20  6]\n"
     ]
    }
   ],
   "source": [
    "import numpy as np\n",
    "arr1=np.array([np.random.randint(1,6) for i in range(10)])\n",
    "print(arr1)\n",
    "arr2=np.array([np.random.randint(1,6) for i in range(10)])\n",
    "print(arr2)\n",
    "print(arr1*arr2)"
   ]
  },
  {
   "cell_type": "markdown",
   "id": "b1d3c523-fb36-43f8-8046-6b4fd15a7fff",
   "metadata": {},
   "source": [
    "##  54. Generate a NumPy array `arr1` with even integers from 2 to 10 and another array `arr2` with integers from 1 to 5. Perform element-wise division of `arr1` by `arr2`."
   ]
  },
  {
   "cell_type": "code",
   "execution_count": 173,
   "id": "703ba8fa-244e-4fdb-953a-3f993308bed6",
   "metadata": {},
   "outputs": [
    {
     "name": "stdout",
     "output_type": "stream",
     "text": [
      "[ 2  4  6  8 10]\n",
      "[1 2 3 4 5]\n",
      "[2. 2. 2. 2. 2.]\n"
     ]
    }
   ],
   "source": [
    "import numpy as np\n",
    "arr1=np.arange(2,11)\n",
    "arr1=arr1[arr1%2==0]\n",
    "print(arr1)\n",
    "arr2=np.arange(1,6)\n",
    "print(arr2)\n",
    "print(arr1/arr2)"
   ]
  },
  {
   "cell_type": "markdown",
   "id": "1ced9d56-d4f8-4e99-9de2-040de8fabca2",
   "metadata": {},
   "source": [
    "##  55. Create a NumPy array `arr1` with integers from 1 to 5 and another array `arr2` with the same numbers reversed. Calculate the exponentiation of `arr1` raised to the power of `arr2` element-wise."
   ]
  },
  {
   "cell_type": "code",
   "execution_count": 174,
   "id": "4b6df03c-7102-4a1c-8158-57e51bfdae92",
   "metadata": {},
   "outputs": [
    {
     "name": "stdout",
     "output_type": "stream",
     "text": [
      "[1 2 3 4 5]\n",
      "[5 4 3 2 1]\n",
      "[ 1 16 27 16  5]\n"
     ]
    }
   ],
   "source": [
    "import numpy as np\n",
    "arr1=np.arange(1,6)\n",
    "print(arr1)\n",
    "arr2=np.arange(5,0,-1)\n",
    "print(arr2)\n",
    "print(arr1**arr2)"
   ]
  },
  {
   "cell_type": "markdown",
   "id": "1374ebe4-7284-4023-86dd-c5df9e734b1b",
   "metadata": {},
   "source": [
    "##  56. Write a function that counts the occurrences of a specific substring within a NumPy array of strings.\n",
    " arr = np.array(['hello', 'world', 'hello', 'numpy', 'hello'])"
   ]
  },
  {
   "cell_type": "code",
   "execution_count": 183,
   "id": "2491c0ac-805d-49f0-8272-36f3b871aaec",
   "metadata": {},
   "outputs": [
    {
     "name": "stdin",
     "output_type": "stream",
     "text": [
      "Enter the sub string :  lo\n"
     ]
    },
    {
     "data": {
      "text/plain": [
       "3"
      ]
     },
     "execution_count": 183,
     "metadata": {},
     "output_type": "execute_result"
    }
   ],
   "source": [
    "import numpy as np\n",
    "arr = np.array(['hello', 'world', 'hello', 'numpy', 'hello'])\n",
    "sub_str=input(\"Enter the sub string : \")\n",
    "def count_sub_str(arr,sub_str):\n",
    "    count=0\n",
    "    for i in arr:\n",
    "        if(i.count(sub_str) >0):\n",
    "            count+=i.count(sub_str)\n",
    "    return count\n",
    "count_sub_str(arr,sub_str)"
   ]
  },
  {
   "cell_type": "markdown",
   "id": "2139d7fa-c075-4ac8-912a-4a7033a0dc43",
   "metadata": {},
   "source": [
    "## 57. Write a function that extracts uppercase characters from a NumPy array of strings.\n",
    " arr = np.array(['Hello', 'World', 'OpenAI', 'GPT'])\n"
   ]
  },
  {
   "cell_type": "code",
   "execution_count": 184,
   "id": "ba1d834b-7857-4584-a118-df971572c1d6",
   "metadata": {},
   "outputs": [
    {
     "name": "stdout",
     "output_type": "stream",
     "text": [
      "H\n",
      "W\n",
      "O\n",
      "A\n",
      "I\n",
      "G\n",
      "P\n",
      "T\n"
     ]
    }
   ],
   "source": [
    "import numpy as np\n",
    "arr = np.array(['Hello', 'World', 'OpenAI', 'GPT'])\n",
    "def extracts_upper(arr):\n",
    "    for i in arr:\n",
    "        for j in range(len(i)):\n",
    "            if(i[j].isupper()):\n",
    "                print(i[j])\n",
    "extracts_upper(arr)"
   ]
  },
  {
   "cell_type": "markdown",
   "id": "f29f131b-9c5c-4ddf-9514-41e8142e110d",
   "metadata": {},
   "source": [
    "## 58. Write a function that replaces occurrences of a substring in a NumPy array of strings with a new string.\n",
    " arr = np.array(['apple', 'banana', 'grape', 'pineapple'])"
   ]
  },
  {
   "cell_type": "code",
   "execution_count": 2,
   "id": "02a8a6c1-a672-4073-9be3-86db83d48c32",
   "metadata": {},
   "outputs": [
    {
     "name": "stdin",
     "output_type": "stream",
     "text": [
      "Enter the sub string :  p\n",
      "Enter the new string :  OO\n"
     ]
    },
    {
     "data": {
      "text/plain": [
       "array(['aOOOOle', 'banana', 'graOOe', 'OOineaOOO'], dtype='<U9')"
      ]
     },
     "execution_count": 2,
     "metadata": {},
     "output_type": "execute_result"
    }
   ],
   "source": [
    "import numpy as np\n",
    "arr = np.array(['apple', 'banana', 'grape', 'pineapple'])\n",
    "sub_str=input(\"Enter the sub string : \")\n",
    "new_str=input(\"Enter the new string : \")\n",
    "def count_sub_str(arr,sub_str,new_str):\n",
    "    for i in range(len(arr)):\n",
    "        if(arr[i].count(sub_str) >0):\n",
    "            for j in range(arr[i].count(sub_str)):\n",
    "                arr[i]=arr[i].replace(sub_str,new_str)\n",
    "            \n",
    "    return arr\n",
    "count_sub_str(arr,sub_str,new_str)"
   ]
  },
  {
   "cell_type": "markdown",
   "id": "37bcffaf-521f-4db2-82f5-a5122244dad6",
   "metadata": {},
   "source": [
    "##  59. Write a function that concatenates strings in a NumPy array element-wise.\n",
    " arr1 = np.array(['Hello', 'World']) ",
    "\n",
    " \n",
    " arr2 = np.array(['Open', 'AI'])"
   ]
  },
  {
   "cell_type": "code",
   "execution_count": 4,
   "id": "e86cc655-711c-44a3-adfe-f257be5265cb",
   "metadata": {},
   "outputs": [
    {
     "name": "stdout",
     "output_type": "stream",
     "text": [
      "HelloWorld\n",
      "OpenAI\n"
     ]
    }
   ],
   "source": [
    "import numpy as np\n",
    "arr1 = np.array(['Hello', 'World'])\n",
    "arr2 = np.array(['Open', 'AI'])\n",
    "def concatenate_str(arr):\n",
    "    temp=\"\"\n",
    "    for i in arr:\n",
    "        temp+=i\n",
    "    return temp\n",
    "print(concatenate_str(arr1))\n",
    "print(concatenate_str(arr2))"
   ]
  },
  {
   "cell_type": "markdown",
   "id": "8e45cc06-75aa-493f-9f42-8a3413da4d32",
   "metadata": {},
   "source": [
    "## 60. Write a function that finds the length of the longest string in a NumPy array.\n",
    " arr = np.array(['apple', 'banana', 'grape', 'pineapple'])"
   ]
  },
  {
   "cell_type": "code",
   "execution_count": 5,
   "id": "fee08653-54ea-4458-bc13-808fbcd5e58a",
   "metadata": {},
   "outputs": [
    {
     "data": {
      "text/plain": [
       "'pineapple'"
      ]
     },
     "execution_count": 5,
     "metadata": {},
     "output_type": "execute_result"
    }
   ],
   "source": [
    "import numpy as np\n",
    "arr = np.array(['apple', 'banana', 'grape', 'pineapple'])\n",
    "def len_long_str(arr):\n",
    "    max=arr[0]\n",
    "    for i in arr:\n",
    "        if(len(i)>len(max)):\n",
    "            max=i\n",
    "    return max\n",
    "len_long_str(arr)"
   ]
  },
  {
   "cell_type": "markdown",
   "id": "ee04bc83-05ec-4b01-946d-dac189ff73b8",
   "metadata": {},
   "source": [
    "##  61. Create a dataset of 100 random integers between 1 and 1000. Compute the mean, median, variance, and standard deviation of the dataset using NumPy's functions."
   ]
  },
  {
   "cell_type": "code",
   "execution_count": 9,
   "id": "ab50749e-c607-4dd4-bdb7-cec6abbd9164",
   "metadata": {},
   "outputs": [
    {
     "name": "stdout",
     "output_type": "stream",
     "text": [
      "[292 233 740 335 700 585 983 886  99 802 370 566 449 127 920 654 792 328\n",
      " 911 142 553 726 490 581 346  14 804 282 693 807 581 126 447 748 966 840\n",
      " 992 989 628  18 768 875 758 207 790 565 816 755 115 137  75  77 488 213\n",
      " 806 574 258 198 446 756 437 976 579 404 755 309 930 602 699 414 865 665\n",
      " 383  44 409 392 427 823 980 859 785 423  75 482 227 470 556 434 483 411\n",
      " 592 810 874 345 238 509 307 733 545 904]\n",
      "mean = 543.77\n",
      "median= 560.5\n",
      "variance= 74010.73710000001\n",
      "standard deviation= 272.0491446411843\n"
     ]
    }
   ],
   "source": [
    "import numpy as np\n",
    "dataset=np.array([np.random.randint(1,1001) for i in range(100)])\n",
    "print(dataset)\n",
    "print(f\"mean = {np.mean(dataset)}\\nmedian= {np.median(dataset)}\\nvariance= {np.var(dataset)}\\nstandard deviation= {np.std(dataset)}\")"
   ]
  },
  {
   "cell_type": "markdown",
   "id": "34d8e48c-da6b-4f5d-9586-250010931ead",
   "metadata": {},
   "source": [
    "##  62. Generate an array of 50 random numbers between 1 and 100. Find the 25th and 75th percentiles of the dataset."
   ]
  },
  {
   "cell_type": "code",
   "execution_count": 38,
   "id": "19330aad-cdb0-4db9-a96d-2e9ac278c088",
   "metadata": {},
   "outputs": [
    {
     "name": "stdout",
     "output_type": "stream",
     "text": [
      "311.0\n",
      "841.0\n"
     ]
    }
   ],
   "source": [
    "import numpy as np\n",
    "\n",
    "df=np.array([np.random.randint(1,101) for i in range(50)])\n",
    "percentiles = np.percentile(random_integers, [25, 75])\n",
    "print(percentiles[0])\n",
    "print(percentiles[1])"
   ]
  },
  {
   "cell_type": "markdown",
   "id": "000d073b-baaa-460c-b4e3-95a2f5bdbb93",
   "metadata": {},
   "source": [
    "##  63. Create two arrays representing two sets of variables. Compute the correlation coefficient between these arrays using NumPy's `corrcoef` function."
   ]
  },
  {
   "cell_type": "code",
   "execution_count": 15,
   "id": "885bf248-f608-458b-bd77-041b0db7a625",
   "metadata": {},
   "outputs": [
    {
     "data": {
      "text/plain": [
       "array([[1., 0.],\n",
       "       [0., 1.]])"
      ]
     },
     "execution_count": 15,
     "metadata": {},
     "output_type": "execute_result"
    }
   ],
   "source": [
    "import numpy as np\n",
    "arr1=np.array([1,2,3,4,5])\n",
    "arr2=np.array([10,120,30,40,50])\n",
    "np.corrcoef(arr1,arr2)"
   ]
  },
  {
   "cell_type": "markdown",
   "id": "95c06afb-574a-48c0-9636-4cb7f7456e88",
   "metadata": {},
   "source": [
    "## 64. Create two matrices and perform matrix multiplication using NumPy's `dot` function."
   ]
  },
  {
   "cell_type": "code",
   "execution_count": 20,
   "id": "c0de4f80-78e0-4ba3-9e21-cc544ff9c6f9",
   "metadata": {},
   "outputs": [
    {
     "data": {
      "text/plain": [
       "matrix([[ 70, 320, 280],\n",
       "        [172, 920, 670]])"
      ]
     },
     "execution_count": 20,
     "metadata": {},
     "output_type": "execute_result"
    }
   ],
   "source": [
    "import numpy as np\n",
    "arr1=np.matrix([[1,2,3],\n",
    "                [4,5,6]])\n",
    "arr2=np.matrix([[10,120,30],\n",
    "                [12,40,50],\n",
    "               [12,40,50]])\n",
    "np.dot(arr1,arr2)"
   ]
  },
  {
   "cell_type": "markdown",
   "id": "07a2e56a-ae51-4e1b-bd65-6b766c3a58df",
   "metadata": {},
   "source": [
    "##  65. Create an array of 50 integers between 10 and 1000. Calculate the 10th, 50th (median), and 90th percentiles along with the first and third quartiles."
   ]
  },
  {
   "cell_type": "code",
   "execution_count": 39,
   "id": "2469c76f-1836-4ae5-8e4d-5bd50c6122cb",
   "metadata": {},
   "outputs": [
    {
     "data": {
      "text/plain": [
       "(array([271, 225, 156, 345, 177, 101, 362, 580, 580, 825, 690, 790, 372,\n",
       "        566, 354, 702, 179, 365, 200, 676, 431, 709,  16, 142, 756, 566,\n",
       "        835, 770,  40, 544, 435, 403, 681, 372, 446, 679, 560, 936,  91,\n",
       "        365, 267, 727, 598, 998, 533, 304, 971, 233, 534,  55]),\n",
       " 137.9,\n",
       " 268.0,\n",
       " 440.5,\n",
       " 680.5,\n",
       " 793.5)"
      ]
     },
     "execution_count": 39,
     "metadata": {},
     "output_type": "execute_result"
    }
   ],
   "source": [
    "import numpy as np\n",
    "\n",
    "random_integers = np.random.randint(10, 1001, 50)\n",
    "\n",
    "\n",
    "percentiles = np.percentile(random_integers, [10, 25, 50, 75, 90])\n",
    "\n",
    "\n",
    "tenth_percentile = percentiles[0]\n",
    "first_quartile = percentiles[1]\n",
    "median = percentiles[2]\n",
    "third_quartile = percentiles[3]\n",
    "ninetieth_percentile = percentiles[4]\n",
    "\n",
    "random_integers, tenth_percentile, first_quartile, median, third_quartile, ninetieth_percentile\n"
   ]
  },
  {
   "cell_type": "markdown",
   "id": "c847889a-ebbe-43fc-a193-890fde7c732b",
   "metadata": {},
   "source": [
    "## 66. Create a NumPy array of integers and find the index of a specific element."
   ]
  },
  {
   "cell_type": "code",
   "execution_count": 8,
   "id": "afb063e5-eb03-48bf-842f-782c4fe897d6",
   "metadata": {},
   "outputs": [
    {
     "name": "stdin",
     "output_type": "stream",
     "text": [
      "Enter the number of elements in array :  4\n",
      "Enter integer number :  1\n",
      "Enter integer number :  9\n",
      "Enter integer number :  4\n",
      "Enter integer number :  0\n",
      "Enter the element to find index :  4\n"
     ]
    },
    {
     "data": {
      "text/plain": [
       "(array([2], dtype=int64),)"
      ]
     },
     "execution_count": 8,
     "metadata": {},
     "output_type": "execute_result"
    }
   ],
   "source": [
    "import numpy as np\n",
    "arr=np.array([])\n",
    "n=int(input(\"Enter the number of elements in array : \"))\n",
    "for i in range(n):\n",
    "    a=int(input(\"Enter integer number : \"))\n",
    "    arr=np.append(arr,a)\n",
    "element=int(input(\"Enter the element to find index : \"))\n",
    "index=np.where(arr == element)\n",
    "index"
   ]
  },
  {
   "cell_type": "markdown",
   "id": "64e9c004-252c-41cd-a371-dcd6323dc667",
   "metadata": {},
   "source": [
    "## 67. Generate a random NumPy array and sort it in ascending order."
   ]
  },
  {
   "cell_type": "code",
   "execution_count": 26,
   "id": "fd6a3b0c-3d48-4646-ae08-f83a0198806c",
   "metadata": {},
   "outputs": [
    {
     "data": {
      "text/plain": [
       "array([ 36,  81, 104, 145, 187, 197, 201, 213, 217, 239, 239, 246, 327,\n",
       "       351, 378, 386, 434, 466, 477, 493, 500, 517, 560, 563, 596, 616,\n",
       "       623, 645, 648, 648, 653, 656, 656, 664, 695, 712, 723, 727, 761,\n",
       "       762, 800, 848, 858, 880, 893, 893, 911, 947, 967, 984])"
      ]
     },
     "execution_count": 26,
     "metadata": {},
     "output_type": "execute_result"
    }
   ],
   "source": [
    "import numpy as np\n",
    "\n",
    "arr = np.random.randint(10, 1001, 50) \n",
    "arr_sorted = np.sort(arr) \n",
    "\n",
    "arr_sorted\n"
   ]
  },
  {
   "cell_type": "markdown",
   "id": "ff5093f4-3ba1-438c-9b79-0d779c895d1a",
   "metadata": {},
   "source": [
    "## 68. Filter elements >20  in the given NumPy array.\n",
    " arr = np.array([12, 25, 6, 42, 8, 30])"
   ]
  },
  {
   "cell_type": "code",
   "execution_count": 15,
   "id": "5b9dc23e-5a69-4e60-a091-6ed65191f39e",
   "metadata": {},
   "outputs": [
    {
     "data": {
      "text/plain": [
       "array([25, 42, 30])"
      ]
     },
     "execution_count": 15,
     "metadata": {},
     "output_type": "execute_result"
    }
   ],
   "source": [
    "import numpy as np\n",
    "arr = np.array([12, 25, 6, 42, 8, 30])\n",
    "arr[arr>20]"
   ]
  },
  {
   "cell_type": "markdown",
   "id": "3b2d88f9-c88b-44ff-b825-a735b5480740",
   "metadata": {},
   "source": [
    "##  69. Filter elements which are divisible by 3 from a given NumPy array.\n",
    " arr = np.array([1, 5, 8, 12, 15])"
   ]
  },
  {
   "cell_type": "code",
   "execution_count": 16,
   "id": "4a837c31-7c2f-4e01-be41-07ce88bd5988",
   "metadata": {},
   "outputs": [
    {
     "data": {
      "text/plain": [
       "array([12, 15])"
      ]
     },
     "execution_count": 16,
     "metadata": {},
     "output_type": "execute_result"
    }
   ],
   "source": [
    "import numpy as np\n",
    "arr = np.array([1, 5, 8, 12, 15])\n",
    "arr[arr%3==0]"
   ]
  },
  {
   "cell_type": "markdown",
   "id": "37b24a05-7fa7-4a5f-864d-87fe4fcaf7fa",
   "metadata": {},
   "source": [
    "##  70. Filter elements which are ≥ 20 and ≤ 40 from a given NumPy array.\n",
    " arr = np.array([10, 20, 30, 40, 50])"
   ]
  },
  {
   "cell_type": "code",
   "execution_count": 17,
   "id": "3e46bac0-eea1-42f5-897e-43065920ae8e",
   "metadata": {},
   "outputs": [
    {
     "data": {
      "text/plain": [
       "array([20, 30, 40])"
      ]
     },
     "execution_count": 17,
     "metadata": {},
     "output_type": "execute_result"
    }
   ],
   "source": [
    "import numpy as np\n",
    "arr = np.array([10, 20, 30, 40, 50])\n",
    "arr[(arr>=20) & (arr<=40)]"
   ]
  },
  {
   "cell_type": "markdown",
   "id": "2d85b936-6d00-4839-90dc-82ea38917a6d",
   "metadata": {},
   "source": [
    "##  71. For the given NumPy array, check its byte order using the `dtype` attribute byteorder.\n",
    " arr = np.array([1, 2, 3])"
   ]
  },
  {
   "cell_type": "code",
   "execution_count": 27,
   "id": "af501142-91b0-4106-8f35-50ecef5d065d",
   "metadata": {},
   "outputs": [
    {
     "data": {
      "text/plain": [
       "dtype('int64')"
      ]
     },
     "execution_count": 27,
     "metadata": {},
     "output_type": "execute_result"
    }
   ],
   "source": [
    "import numpy as np\n",
    "arr = np.array([1, 2, 3], dtype=np.int64)\n",
    "arr.dtype"
   ]
  },
  {
   "cell_type": "markdown",
   "id": "c54de624-6de8-4e68-91e2-7695c740f3bb",
   "metadata": {},
   "source": [
    "## 72. For the given NumPy array, perform byte swapping in place using `byteswap()`.\n",
    " arr = np.array([1, 2, 3], dtype=np.int32)"
   ]
  },
  {
   "cell_type": "code",
   "execution_count": 1,
   "id": "92c691e5-9e1a-443f-acfe-a682a2bd23b5",
   "metadata": {},
   "outputs": [
    {
     "name": "stdout",
     "output_type": "stream",
     "text": [
      "Original array:\n",
      "[    1   256 65536]\n",
      "\n",
      "Array after byte swapping in place:\n",
      "[16777216    65536      256]\n"
     ]
    }
   ],
   "source": [
    "import numpy as np\n",
    "\n",
    "original_array = np.array([1, 256, 65536], dtype=np.int32)\n",
    "print(\"Original array:\")\n",
    "print(original_array)\n",
    "\n",
    "original_array.byteswap(inplace=True)\n",
    "print(\"\\nArray after byte swapping in place:\")\n",
    "print(original_array)\n"
   ]
  },
  {
   "cell_type": "markdown",
   "id": "44400c21-8229-4f28-93ed-b1f95e06fcea",
   "metadata": {},
   "source": [
    "##  73. For the given NumPy array, swap its byte order without modifying the original array using `newbyteorder()`.\n",
    " arr = np.array([1, 2, 3], dtype=np.int32)"
   ]
  },
  {
   "cell_type": "code",
   "execution_count": 2,
   "id": "121b8d2a-9558-4dd3-b52f-8cdc1bfb0ad4",
   "metadata": {},
   "outputs": [
    {
     "name": "stdout",
     "output_type": "stream",
     "text": [
      "Original array:\n",
      "[    1   256 65536]\n",
      "Original array byte order: =\n",
      "\n",
      "New byte order array:\n",
      "[16777216    65536      256]\n",
      "New byte order array byte order: >\n"
     ]
    }
   ],
   "source": [
    "import numpy as np\n",
    "\n",
    "\n",
    "original_array = np.array([1, 256, 65536], dtype=np.int32)\n",
    "print(\"Original array:\")\n",
    "print(original_array)\n",
    "print(\"Original array byte order:\", original_array.dtype.byteorder)\n",
    "\n",
    "new_byte_order_array = original_array.newbyteorder()\n",
    "print(\"\\nNew byte order array:\")\n",
    "print(new_byte_order_array)\n",
    "print(\"New byte order array byte order:\", new_byte_order_array.dtype.byteorder)\n"
   ]
  },
  {
   "cell_type": "markdown",
   "id": "7ac9297a-8e86-4f0f-8d6f-20c9fee6adaa",
   "metadata": {},
   "source": [
    "## 74. For the given NumPy array and swap its byte order conditionally based on system endianness using `newbyteorder()`.\n",
    " arr = np.array([1, 2, 3], dtype=np.int32)"
   ]
  },
  {
   "cell_type": "code",
   "execution_count": 35,
   "id": "239459f8-4a25-4b2f-861a-5ec592e9c8a8",
   "metadata": {},
   "outputs": [
    {
     "name": "stdout",
     "output_type": "stream",
     "text": [
      "Original array:\n",
      "[1 2 3]\n",
      "\n",
      "System endianness is native (= little-endian )\n",
      "\n",
      "Swapped byte order array:\n",
      "[16777216 33554432 50331648]\n"
     ]
    }
   ],
   "source": [
    "import numpy as np\n",
    "\n",
    "# Create a NumPy array with a specific data type\n",
    "original_array = np.array([1, 2, 3], dtype=np.int32)\n",
    "print(\"Original array:\")\n",
    "print(original_array)\n",
    "\n",
    "# Check the system's endianness\n",
    "system_endianness = np.dtype('<i').byteorder\n",
    "\n",
    "if system_endianness == '=':\n",
    "    print(\"\\nSystem endianness is native (=\", \"little-endian\" if np.little_endian else \"big-endian\", \")\")\n",
    "else:\n",
    "    print(\"\\nSystem endianness is non-native (\", \"little-endian\" if system_endianness == '<' else \"big-endian\", \")\")\n",
    "\n",
    "# Conditionally swap the byte order based on system endianness\n",
    "if system_endianness == '<':\n",
    "    # System is little-endian, swap to big-endian\n",
    "    swapped_array = original_array.newbyteorder('>')\n",
    "elif system_endianness == '>':\n",
    "    # System is big-endian, swap to little-endian\n",
    "    swapped_array = original_array.newbyteorder('<')\n",
    "else:\n",
    "    # System endianness is native ('='), so determine based on np.little_endian\n",
    "    if np.little_endian:\n",
    "        # Swap to big-endian\n",
    "        swapped_array = original_array.newbyteorder('>')\n",
    "    else:\n",
    "        # Swap to little-endian\n",
    "        swapped_array = original_array.newbyteorder('<')\n",
    "\n",
    "print(\"\\nSwapped byte order array:\")\n",
    "print(swapped_array)\n"
   ]
  },
  {
   "cell_type": "markdown",
   "id": "273f9186-d2bd-430d-9781-0f0b47ac4665",
   "metadata": {},
   "source": [
    "##  75. For the given NumPy array, check if byte swapping is necessary for the current system using `dtype` attribute `byteorder`.\n",
    " arr = np.array([1, 2, 3], dtype=np.int32)"
   ]
  },
  {
   "cell_type": "code",
   "execution_count": 36,
   "id": "b82d6bc1-b1dc-4036-9a8a-6f7fd2002614",
   "metadata": {},
   "outputs": [
    {
     "name": "stdout",
     "output_type": "stream",
     "text": [
      "Original array:\n",
      "[1 2 3]\n",
      "\n",
      "Byte order attribute of dtype: =\n",
      "System byte order matches array's byte order (no byte swapping needed).\n"
     ]
    }
   ],
   "source": [
    "import numpy as np\n",
    "\n",
    "# Create a NumPy array with a specific data type (here int32)\n",
    "original_array = arr = np.array([1, 2, 3], dtype=np.int32)\n",
    "print(\"Original array:\")\n",
    "print(original_array)\n",
    "\n",
    "# Check the byte order attribute of the dtype\n",
    "array_byte_order = original_array.dtype.byteorder\n",
    "print(\"\\nByte order attribute of dtype:\", array_byte_order)\n",
    "\n",
    "# Determine if byte swapping is necessary\n",
    "if array_byte_order == '=':\n",
    "    print(\"System byte order matches array's byte order (no byte swapping needed).\")\n",
    "else:\n",
    "    print(\"Byte swapping is necessary for the current system.\")\n"
   ]
  },
  {
   "cell_type": "markdown",
   "id": "24947267-f74f-4b7b-9f5a-9fb240be2b60",
   "metadata": {},
   "source": [
    "## 76. Create a NumPy array `arr1` with values from 1 to 10. Create a copy of `arr1` named `copy_arr` and modify an element in `copy_arr`. Check if modifying `copy_arr` affects `arr1`."
   ]
  },
  {
   "cell_type": "code",
   "execution_count": 37,
   "id": "5098105b-ef74-4701-8a5b-a7b5cf3879fb",
   "metadata": {},
   "outputs": [
    {
     "name": "stdout",
     "output_type": "stream",
     "text": [
      "Original array arr1:\n",
      "[ 1  2  3  4  5  6  7  8  9 10]\n",
      "\n",
      "After modifying copy_arr:\n",
      "arr1: [ 1  2  3  4  5  6  7  8  9 10]\n",
      "copy_arr: [100   2   3   4   5   6   7   8   9  10]\n"
     ]
    }
   ],
   "source": [
    "import numpy as np\n",
    "\n",
    "# Create arr1 with values from 1 to 10\n",
    "arr1 = np.arange(1, 11)\n",
    "print(\"Original array arr1:\")\n",
    "print(arr1)\n",
    "\n",
    "# Create a deep copy using copy() method\n",
    "copy_arr = arr1.copy()\n",
    "\n",
    "# Modify an element in copy_arr\n",
    "copy_arr[0] = 100\n",
    "\n",
    "# Check if modifying copy_arr affects arr1\n",
    "print(\"\\nAfter modifying copy_arr:\")\n",
    "print(\"arr1:\", arr1)\n",
    "print(\"copy_arr:\", copy_arr)\n"
   ]
  },
  {
   "cell_type": "markdown",
   "id": "e25d834d-9972-4662-a346-14aa9409620e",
   "metadata": {},
   "source": [
    "##  77. Create a 2D NumPy array `matrix` of shape (3, 3) with random integers. Extract a slice `view_slice` from the matrix. Modify an element in `view_slice` and observe if it changes the original `matrix`."
   ]
  },
  {
   "cell_type": "code",
   "execution_count": 48,
   "id": "862a193e-79a7-4b44-b74f-32aed049e00b",
   "metadata": {},
   "outputs": [
    {
     "name": "stdout",
     "output_type": "stream",
     "text": [
      "[[10 12 15]\n",
      " [ 6 14 11]\n",
      " [10  1  9]]\n",
      "[[ 6 14]\n",
      " [10  1]]\n",
      "After changing \n",
      "[[100  14]\n",
      " [ 10   1]]\n",
      "[[ 10  12  15]\n",
      " [100  14  11]\n",
      " [ 10   1   9]]\n"
     ]
    }
   ],
   "source": [
    "import numpy as np\n",
    "matrix=np.matrix([np.random.randint(1,20,9)]).reshape(3,3)\n",
    "print(matrix)\n",
    "view_slice=matrix[1:3,0:2]\n",
    "print(view_slice)\n",
    "view_slice[0,0]=100\n",
    "print(\"After changing \")\n",
    "print(view_slice)\n",
    "print(matrix)"
   ]
  },
  {
   "cell_type": "markdown",
   "id": "7264eda3-84cb-4d04-82a3-dd5cd1cd31f4",
   "metadata": {},
   "source": [
    "## 78. Create a NumPy array `array_a` of shape (4, 3) with sequential integers from 1 to 12. Extract a slice `view_b` from `array_a` and broadcast the addition of 5 to view_b. Check if it alters the original `array_a`"
   ]
  },
  {
   "cell_type": "code",
   "execution_count": 53,
   "id": "d15795ec-bbd6-458e-89e3-6a111f0a0d91",
   "metadata": {},
   "outputs": [
    {
     "name": "stdout",
     "output_type": "stream",
     "text": [
      "[[ 1  2  3]\n",
      " [ 4  5  6]\n",
      " [ 7  8  9]\n",
      " [10 11 12]]\n",
      "[[5 6]\n",
      " [8 9]]\n",
      "[[10 11]\n",
      " [13 14]]\n",
      "[[ 1  2  3]\n",
      " [ 4 10 11]\n",
      " [ 7 13 14]\n",
      " [10 11 12]]\n"
     ]
    }
   ],
   "source": [
    "import numpy as np\n",
    "array_a=np.arange(1,13).reshape(4,3)\n",
    "print(array_a)\n",
    "view=array_a[1:3,1:3]\n",
    "print(view)\n",
    "view+=5\n",
    "print(view)\n",
    "print(array_a)"
   ]
  },
  {
   "cell_type": "markdown",
   "id": "152eafac-b13d-45c7-8c04-cf55789df692",
   "metadata": {},
   "source": [
    "##  79. Create a NumPy array `orig_array` of shape (2, 4) with values from 1 to 8. Create a reshaped view `reshaped_view` of shape (4, 2) from orig_array. Modify an element in `reshaped_view` and check if it reflects changes in the original `orig_array`"
   ]
  },
  {
   "cell_type": "code",
   "execution_count": 56,
   "id": "5e529145-1c94-4a39-af81-aa134352b11b",
   "metadata": {},
   "outputs": [
    {
     "name": "stdout",
     "output_type": "stream",
     "text": [
      "[[1 8 4 4]\n",
      " [6 7 2 3]]\n",
      "[[1 8]\n",
      " [4 4]\n",
      " [6 7]\n",
      " [2 3]]\n",
      "[[1 8 4 4]\n",
      " [6 7 2 3]]\n"
     ]
    }
   ],
   "source": [
    "import numpy as np\n",
    "orig_array=np.array([np.random.randint(1,9,8)]).reshape(2,4)\n",
    "print(orig_array)\n",
    "reshaped_view=orig_array.reshape(4,2)\n",
    "print(reshaped_view)\n",
    "print(orig_array)"
   ]
  },
  {
   "cell_type": "markdown",
   "id": "25aa7781-299b-4502-a798-2cb76766c948",
   "metadata": {},
   "source": [
    "##  80. Create a NumPy array `data` of shape (3, 4) with random integers. Extract a copy `data_copy` of elements greater than 5. Modify an element in `data_copy` and verify if it affects the original `data`."
   ]
  },
  {
   "cell_type": "code",
   "execution_count": 59,
   "id": "f9d2ca9b-f5fb-4ee1-b790-af9b7a4c9b30",
   "metadata": {},
   "outputs": [
    {
     "name": "stdout",
     "output_type": "stream",
     "text": [
      "[[ 9 14  3  3]\n",
      " [13 19  7  7]\n",
      " [ 1 14  6 17]]\n",
      "[ 9 14 13 19  7  7 14  6 17]\n",
      "[19 24 23 29 17 17 24 16 27]\n",
      "[[ 9 14  3  3]\n",
      " [13 19  7  7]\n",
      " [ 1 14  6 17]]\n"
     ]
    }
   ],
   "source": [
    "import numpy as np\n",
    "data=np.array([np.random.randint(1,20,12)]).reshape(3,4)\n",
    "print(data)\n",
    "data_copy=data[data>5]\n",
    "print(data_copy)\n",
    "data_copy+=10\n",
    "print(data_copy)\n",
    "print(data)"
   ]
  },
  {
   "cell_type": "markdown",
   "id": "af70d20d-15f4-4207-80d7-e254b4063861",
   "metadata": {},
   "source": [
    "##  81. Create two matrices A and B of identical shape containing integers and perform addition and subtraction operations between them."
   ]
  },
  {
   "cell_type": "code",
   "execution_count": 64,
   "id": "e5b021c8-1549-4252-91a2-4151070487b2",
   "metadata": {},
   "outputs": [
    {
     "name": "stdout",
     "output_type": "stream",
     "text": [
      "[[14  3  7  2]\n",
      " [14  9  4 10]\n",
      " [19 15 11  1]]\n",
      "[[ 6 19 11 15]\n",
      " [15 18 16 12]\n",
      " [10  2 18 15]]\n",
      "[[20 22 18 17]\n",
      " [29 27 20 22]\n",
      " [29 17 29 16]]\n",
      "[[  8 -16  -4 -13]\n",
      " [ -1  -9 -12  -2]\n",
      " [  9  13  -7 -14]]\n"
     ]
    }
   ],
   "source": [
    "import numpy as np\n",
    "matrix1=np.matrix([np.random.randint(1,20,12)]).reshape(3,4)\n",
    "matrix2=np.matrix([np.random.randint(1,20,12)]).reshape(3,4)\n",
    "print(matrix1)\n",
    "print(matrix2)\n",
    "print(matrix1+matrix2)\n",
    "print(matrix1-matrix2)"
   ]
  },
  {
   "cell_type": "markdown",
   "id": "62ee5bba-4c13-4999-a38d-914ac9df6fc1",
   "metadata": {},
   "source": [
    "##  82. Generate two matrices `C` (3x2) and `D` (2x4) and perform matrix multiplication."
   ]
  },
  {
   "cell_type": "code",
   "execution_count": 5,
   "id": "11867a2f-576c-443b-a413-53bb4ffe7bb7",
   "metadata": {},
   "outputs": [
    {
     "name": "stdin",
     "output_type": "stream",
     "text": [
      "Matrix 1 Enter element value :  1\n",
      "Matrix 1 Enter element value :  8\n",
      "Matrix 1 Enter element value :  4\n",
      "Matrix 1 Enter element value :  7\n",
      "Matrix 1 Enter element value :  4\n",
      "Matrix 1 Enter element value :  2\n"
     ]
    },
    {
     "name": "stdout",
     "output_type": "stream",
     "text": [
      "[[1 8]\n",
      " [4 7]\n",
      " [4 2]]\n"
     ]
    },
    {
     "name": "stdin",
     "output_type": "stream",
     "text": [
      "Matrix 2 Enter element value :  7\n",
      "Matrix 2 Enter element value :  3\n",
      "Matrix 2 Enter element value :  7\n",
      "Matrix 2 Enter element value :  2\n",
      "Matrix 2 Enter element value :  7\n",
      "Matrix 2 Enter element value :  4\n",
      "Matrix 2 Enter element value :  8\n",
      "Matrix 2 Enter element value :  2\n"
     ]
    },
    {
     "name": "stdout",
     "output_type": "stream",
     "text": [
      "[[7 3 7 2]\n",
      " [7 4 8 2]]\n"
     ]
    },
    {
     "data": {
      "text/plain": [
       "matrix([[63, 35, 71, 18],\n",
       "        [77, 40, 84, 22],\n",
       "        [42, 20, 44, 12]])"
      ]
     },
     "execution_count": 5,
     "metadata": {},
     "output_type": "execute_result"
    }
   ],
   "source": [
    "import numpy as np\n",
    "C=np.matrix([int(input(\"Matrix 1 Enter element value : \")) for i in range(6)]).reshape(3,2)\n",
    "print(C)\n",
    "D=np.matrix([int(input(\"Matrix 2 Enter element value : \")) for i in range(8)]).reshape(2,4)\n",
    "print(D)\n",
    "C@D"
   ]
  },
  {
   "cell_type": "markdown",
   "id": "34b74a5c-9652-4d91-bf40-70e3e5b0d530",
   "metadata": {},
   "source": [
    "##  83. Create a matrix `E` and find its transpose."
   ]
  },
  {
   "cell_type": "code",
   "execution_count": 66,
   "id": "a05a9828-5768-4704-9fde-cb82976c5175",
   "metadata": {},
   "outputs": [
    {
     "name": "stdout",
     "output_type": "stream",
     "text": [
      "[[ 4 12  4 10]\n",
      " [ 1 19 14  1]\n",
      " [ 8 18  9  8]]\n",
      "[[ 4  1  8]\n",
      " [12 19 18]\n",
      " [ 4 14  9]\n",
      " [10  1  8]]\n"
     ]
    }
   ],
   "source": [
    "import numpy as np\n",
    "E=np.matrix([np.random.randint(1,20,12)]).reshape(3,4)\n",
    "print(E)\n",
    "print(E.T)"
   ]
  },
  {
   "cell_type": "markdown",
   "id": "72058812-2bec-4543-bbea-78009677d796",
   "metadata": {},
   "source": [
    "##  84. Generate a square matrix `F` and compute its determinant."
   ]
  },
  {
   "cell_type": "code",
   "execution_count": 69,
   "id": "39f8c48d-80b5-4d05-9750-801938d7ae34",
   "metadata": {},
   "outputs": [
    {
     "name": "stdout",
     "output_type": "stream",
     "text": [
      "[[15  5 16 16]\n",
      " [ 3  2  5  5]\n",
      " [ 7  8 17  4]\n",
      " [ 4  1  8 14]]\n",
      "784.9999999999998\n"
     ]
    }
   ],
   "source": [
    "import numpy as np\n",
    "F=np.matrix([np.random.randint(1,20,16)]).reshape(4,4)\n",
    "print(F)\n",
    "print( np.linalg.det(F))"
   ]
  },
  {
   "cell_type": "markdown",
   "id": "dc8112e7-f954-41ad-b9ae-821295b923f8",
   "metadata": {},
   "source": [
    "##  85. Create a square matrix `G` and find its inverse."
   ]
  },
  {
   "cell_type": "code",
   "execution_count": 28,
   "id": "89da643b-8b16-4848-84da-e1be55ef1b63",
   "metadata": {},
   "outputs": [
    {
     "name": "stdout",
     "output_type": "stream",
     "text": [
      "Matrix G:\n",
      "[[ 2 12 14 17]\n",
      " [ 3 16  4  9]\n",
      " [ 3  5 17 19]\n",
      " [ 5  4 12 10]]\n",
      "\n",
      "Inverse of G:\n",
      "[[-0.39610964  0.20689655  0.19451813  0.11759505]\n",
      " [ 0.15694076 -0.01724138 -0.15296198  0.03934571]\n",
      " [ 0.37356322 -0.22413793 -0.32183908  0.17816092]\n",
      " [-0.31299735  0.17241379  0.35013263 -0.18832891]]\n"
     ]
    }
   ],
   "source": [
    "import numpy as np\n",
    "\n",
    "# Define matrix G\n",
    "G = np.matrix([\n",
    "    [ 2, 12, 14, 17],\n",
    "    [ 3, 16,  4,  9],\n",
    "    [ 3,  5, 17, 19],\n",
    "    [ 5,  4, 12, 10]\n",
    "])\n",
    "\n",
    "# Calculate the inverse of G\n",
    "G_inv = np.linalg.inv(G)\n",
    "\n",
    "print(\"Matrix G:\")\n",
    "print(G)\n",
    "print(\"\\nInverse of G:\")\n",
    "print(G_inv)\n"
   ]
  }
 ],
 "metadata": {
  "kernelspec": {
   "display_name": "Python 3 (ipykernel)",
   "language": "python",
   "name": "python3"
  },
  "language_info": {
   "codemirror_mode": {
    "name": "ipython",
    "version": 3
   },
   "file_extension": ".py",
   "mimetype": "text/x-python",
   "name": "python",
   "nbconvert_exporter": "python",
   "pygments_lexer": "ipython3",
   "version": "3.11.7"
  }
 },
 "nbformat": 4,
 "nbformat_minor": 5
}
