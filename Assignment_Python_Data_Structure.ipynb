{
 "cells": [
  {
   "cell_type": "markdown",
   "id": "80cd5a9f",
   "metadata": {},
   "source": [
    "# PW Data Analytics Course"
   ]
  },
  {
   "cell_type": "markdown",
   "id": "1f37c373",
   "metadata": {},
   "source": [
    "## Assignment 1 : Python Data Structure"
   ]
  },
  {
   "cell_type": "markdown",
   "id": "7d85413a",
   "metadata": {},
   "source": [
    "### 1. Write a code to reverse a string."
   ]
  },
  {
   "cell_type": "code",
   "execution_count": 6,
   "id": "598eb806",
   "metadata": {},
   "outputs": [
    {
     "name": "stdout",
     "output_type": "stream",
     "text": [
      "Enter the string to reverse : good day\n",
      "The reverse of the given string is : yad doog\n"
     ]
    }
   ],
   "source": [
    "string=input(\"Enter the string to reverse : \")\n",
    "print(f\"The reverse of the given string is : {string[::-1]}\")"
   ]
  },
  {
   "cell_type": "markdown",
   "id": "cec28a71",
   "metadata": {},
   "source": [
    "### 2. Write a code to count the number of vowels in a string."
   ]
  },
  {
   "cell_type": "code",
   "execution_count": 13,
   "id": "b58c6ab6",
   "metadata": {},
   "outputs": [
    {
     "name": "stdout",
     "output_type": "stream",
     "text": [
      "Enter the string to cout vowels : good day\n",
      "Number of vowels are :3\n"
     ]
    }
   ],
   "source": [
    "string=input(\"Enter the string to cout vowels : \")\n",
    "count=0\n",
    "for i in string:\n",
    "    if(i in ['a','e','i','o','u','A','E','I','O','U']):\n",
    "        count=count+1\n",
    "print(f\"Number of vowels are :{count}\")"
   ]
  },
  {
   "cell_type": "markdown",
   "id": "7674214a",
   "metadata": {},
   "source": [
    "### 3. Write a code to check if a given string is a palindrome or not."
   ]
  },
  {
   "cell_type": "code",
   "execution_count": 1,
   "id": "2530bc2a",
   "metadata": {},
   "outputs": [
    {
     "name": "stdout",
     "output_type": "stream",
     "text": [
      "Enter the string to check palindrome : wow\n",
      "Palindrome\n"
     ]
    }
   ],
   "source": [
    "string=input(\"Enter the string to check palindrome : \")\n",
    "print(\"Palindrome\") if(string==string[::-1]) else print(\"Not a Palindrome\")"
   ]
  },
  {
   "cell_type": "markdown",
   "id": "3657e9f0",
   "metadata": {},
   "source": [
    "### 4. Write a code to check if two given strings are anagrams of each other."
   ]
  },
  {
   "cell_type": "code",
   "execution_count": 4,
   "id": "a2b4f9ea",
   "metadata": {},
   "outputs": [
    {
     "name": "stdout",
     "output_type": "stream",
     "text": [
      "Enter the first string : listen\n",
      "Enter the second string : silent\n",
      "Anagrams\n"
     ]
    }
   ],
   "source": [
    "string1=input(\"Enter the first string : \")\n",
    "string2=input(\"Enter the second string : \")\n",
    "\n",
    "if(sorted(string1)==sorted(string2)):\n",
    "    print(\"Anagrams\")\n",
    "else:\n",
    "    print(\"Not an Anagrams\")\n"
   ]
  },
  {
   "cell_type": "markdown",
   "id": "82ef6afb",
   "metadata": {},
   "source": [
    "### 5. Write a code to find all occurrences of a given substring within another string."
   ]
  },
  {
   "cell_type": "code",
   "execution_count": 15,
   "id": "0626aeb3",
   "metadata": {},
   "outputs": [
    {
     "name": "stdout",
     "output_type": "stream",
     "text": [
      "Enter the string : are all present areal\n",
      "Enter the sub-string : are\n",
      "The Count of are in are all present areal is 2\n"
     ]
    }
   ],
   "source": [
    "string=input(\"Enter the string : \")\n",
    "sub_string=input(\"Enter the sub-string : \")\n",
    "print(f\"The Count of {sub_string} in {string} is {string.count(sub_string)}\")"
   ]
  },
  {
   "cell_type": "markdown",
   "id": "b529972e",
   "metadata": {},
   "source": [
    "### 6. Write a code to perform basic string compression using the counts of repeated characters."
   ]
  },
  {
   "cell_type": "code",
   "execution_count": 9,
   "id": "352432e5",
   "metadata": {},
   "outputs": [
    {
     "name": "stdout",
     "output_type": "stream",
     "text": [
      "Enter the string: AAABACC\n",
      "3A1B1A2C\n"
     ]
    }
   ],
   "source": [
    "string = input(\"Enter the string: \")  # \"AAABACC\"\n",
    "x = string[0]\n",
    "count = 0\n",
    "result = \"\"\n",
    "string += \" \"  # Add a space at the end to ensure the last character is processed\n",
    "\n",
    "for i in range(len(string)):\n",
    "    if x == string[i]:\n",
    "        count += 1\n",
    "    else:\n",
    "        result += str(count) + x\n",
    "        count = 1  # Reset count to 1 for the new character\n",
    "        x = string[i]\n",
    "\n",
    "print(result)\n"
   ]
  },
  {
   "cell_type": "markdown",
   "id": "341eb46a",
   "metadata": {},
   "source": [
    "### 7. Write a code to determine if a string has all unique characters."
   ]
  },
  {
   "cell_type": "code",
   "execution_count": 35,
   "id": "c544117e",
   "metadata": {},
   "outputs": [
    {
     "name": "stdout",
     "output_type": "stream",
     "text": [
      "Enter the string to check all characters are unique : indus\n",
      "Unique\n"
     ]
    }
   ],
   "source": [
    "string=input(\"Enter the string to check all characters are unique : \")#abca\n",
    "result=0\n",
    "for i in range(len(string)-1):#0 1 2 \n",
    "    for j in range(i+1,len(string)):#1 2 3 \n",
    "        if(string[i]==string[j]):\n",
    "            result+=1\n",
    "\n",
    "if(result==1):\n",
    "    print(\"Not unique\")\n",
    "else:\n",
    "    print(\"Unique\")\n"
   ]
  },
  {
   "cell_type": "markdown",
   "id": "4de4b5b1",
   "metadata": {},
   "source": [
    "### 8. Write a code to convert a given string to uppercase or lowercase."
   ]
  },
  {
   "cell_type": "code",
   "execution_count": 36,
   "id": "e7c5dcb0",
   "metadata": {},
   "outputs": [
    {
     "name": "stdout",
     "output_type": "stream",
     "text": [
      "Enter the string : hi I am aAdarsh\n",
      "Uppercase : HI I AM AADARSH\n",
      " Lowercase :hi i am aadarsh\n"
     ]
    }
   ],
   "source": [
    "string=input(\"Enter the string : \")\n",
    "print(f\"Uppercase : {string.upper()}\\n Lowercase :{string.lower()}\")"
   ]
  },
  {
   "cell_type": "markdown",
   "id": "2daa409f",
   "metadata": {},
   "source": [
    "### 9. Write a code to count the number of words in a string."
   ]
  },
  {
   "cell_type": "code",
   "execution_count": 43,
   "id": "df00d39f",
   "metadata": {
    "scrolled": true
   },
   "outputs": [
    {
     "name": "stdout",
     "output_type": "stream",
     "text": [
      "Enter the string : hi how are you\n",
      "The  number of words in hi how are you is 4\n"
     ]
    }
   ],
   "source": [
    "string=input(\"Enter the string : \")\n",
    "print(f\"The  number of words in {string} is {len(string.split(' '))}\")"
   ]
  },
  {
   "cell_type": "markdown",
   "id": "d77ab66d",
   "metadata": {},
   "source": [
    "### 10. Write a code to concatenate two strings without using the + operator."
   ]
  },
  {
   "cell_type": "code",
   "execution_count": 17,
   "id": "879dd5fb",
   "metadata": {},
   "outputs": [
    {
     "name": "stdout",
     "output_type": "stream",
     "text": [
      "Enter the string : hi how\n",
      "Enter the string : are you\n"
     ]
    },
    {
     "data": {
      "text/plain": [
       "'hi howare you'"
      ]
     },
     "execution_count": 17,
     "metadata": {},
     "output_type": "execute_result"
    }
   ],
   "source": [
    "string1=input(\"Enter the string : \")\n",
    "string2=input(\"Enter the string : \")\n",
    "r_len=len(string1)+len(string2)\n",
    "result=list()\n",
    "result_str=\"\"\n",
    "for i in range(r_len):\n",
    "    if(i<len(string1)):\n",
    "        result.append(string1[i])\n",
    "    else:\n",
    "        result.append(string2[i-len(string1)])\n",
    "result_str.join(result)"
   ]
  },
  {
   "cell_type": "markdown",
   "id": "f12bf965",
   "metadata": {},
   "source": [
    "### 11. Write a code to remove all occurrences of a specific element from a list."
   ]
  },
  {
   "cell_type": "code",
   "execution_count": 1,
   "id": "8dcd6167",
   "metadata": {},
   "outputs": [
    {
     "name": "stdout",
     "output_type": "stream",
     "text": [
      "Enter 'exit' to stop entering element for the list\n",
      "Enter the element : 1\n",
      "Enter the element : 2\n",
      "Enter the element : 3\n",
      "Enter the element : 1\n",
      "Enter the element : 1\n",
      "Enter the element : 10\n",
      "Enter the element : exit\n",
      "Enter element to remove from list : 1\n",
      "list without specified element ['2', '3', '10']\n"
     ]
    }
   ],
   "source": [
    "print(\"Enter 'exit' to stop entering element for the list\")\n",
    "list1=[]\n",
    "while True:\n",
    "    e=input(\"Enter the element : \")\n",
    "    if(e==\"exit\"):\n",
    "        break\n",
    "    list1.append(e)\n",
    "    \n",
    "a=input(\"Enter element to remove from list : \")\n",
    "while(list1.count(a)):\n",
    "    list1.remove(a)\n",
    "print(f\"list without specified element {list1}\")"
   ]
  },
  {
   "cell_type": "markdown",
   "id": "1ff020ca",
   "metadata": {},
   "source": [
    "### 12. Implement a code to find the second largest number in a given list of integers."
   ]
  },
  {
   "cell_type": "code",
   "execution_count": 3,
   "id": "537f2a3b",
   "metadata": {},
   "outputs": [
    {
     "name": "stdout",
     "output_type": "stream",
     "text": [
      "Enter the number of elements in list : 4\n",
      "Enter the element1 : 8\n",
      "Enter the element2 : 1\n",
      "Enter the element3 : 5\n",
      "Enter the element4 : 2\n",
      "the second largest number in [8, 1, 5, 2] is 5\n"
     ]
    }
   ],
   "source": [
    "list1=[]\n",
    "n=int(input(\"Enter the number of elements in list : \"))\n",
    "for i in range(n):\n",
    "    val=int(input(f\"Enter the element{i+1} : \"))\n",
    "    list1.append(val)\n",
    "print(f\"the second largest number in {list1} is {sorted(list1)[-2]}\")\n"
   ]
  },
  {
   "cell_type": "markdown",
   "id": "060fd90f",
   "metadata": {},
   "source": [
    "### 13. Create a code to count the occurrences of each element in a list and return a dictionary with elements as keys and their counts as values."
   ]
  },
  {
   "cell_type": "code",
   "execution_count": 9,
   "id": "69f10ad2",
   "metadata": {},
   "outputs": [
    {
     "name": "stdout",
     "output_type": "stream",
     "text": [
      "Enter the number of elements in list : 6\n",
      "Enter the element1 : 1\n",
      "Enter the element2 : 3\n",
      "Enter the element3 : 2\n",
      "Enter the element4 : 1\n",
      "Enter the element5 : 1\n",
      "Enter the element6 : 2\n",
      "{1: 3, 2: 2, 3: 1}\n"
     ]
    }
   ],
   "source": [
    "list1=[]\n",
    "n=int(input(\"Enter the number of elements in list : \"))\n",
    "for i in range(n):\n",
    "    val=int(input(f\"Enter the element{i+1} : \"))\n",
    "    list1.append(val)\n",
    "\n",
    "d=[]\n",
    "set1=set(list1)\n",
    "d=[(i,list1.count(i)) for i in set1]\n",
    "dict1=dict(d)\n",
    "print(dict1)"
   ]
  },
  {
   "cell_type": "markdown",
   "id": "7b094076",
   "metadata": {},
   "source": [
    "### 14. Write a code to reverse a list in-place without using any buily-in reverse function"
   ]
  },
  {
   "cell_type": "code",
   "execution_count": 10,
   "id": "262cb1ca",
   "metadata": {},
   "outputs": [
    {
     "name": "stdout",
     "output_type": "stream",
     "text": [
      "Enter the number of elements in list : 5\n",
      "Enter the element1 : 1\n",
      "Enter the element2 : 2\n",
      "Enter the element3 : 3\n",
      "Enter the element4 : 4\n",
      "Enter the element5 : 5\n",
      "[5, 4, 3, 2, 1]\n"
     ]
    }
   ],
   "source": [
    "list1=[]\n",
    "n=int(input(\"Enter the number of elements in list : \"))\n",
    "for i in range(n):\n",
    "    val=int(input(f\"Enter the element{i+1} : \"))\n",
    "    list1.append(val)\n",
    "print(list1[::-1])"
   ]
  },
  {
   "cell_type": "markdown",
   "id": "3f06b821",
   "metadata": {},
   "source": [
    "### 15. Implement a code to find and remove duplicates from a list while preserving the original order of elements."
   ]
  },
  {
   "cell_type": "code",
   "execution_count": 2,
   "id": "a6339315",
   "metadata": {},
   "outputs": [
    {
     "name": "stdout",
     "output_type": "stream",
     "text": [
      "Enter the number of elements in list : 5\n",
      "Enter the element1 : 2\n",
      "Enter the element2 : 1\n",
      "Enter the element3 : 2\n",
      "Enter the element4 : 3\n",
      "Enter the element5 : 1\n"
     ]
    },
    {
     "data": {
      "text/plain": [
       "[2, 1, 3]"
      ]
     },
     "execution_count": 2,
     "metadata": {},
     "output_type": "execute_result"
    }
   ],
   "source": [
    "list1=[]\n",
    "n=int(input(\"Enter the number of elements in list : \"))\n",
    "for i in range(n):\n",
    "    val=int(input(f\"Enter the element{i+1} : \"))\n",
    "    list1.append(val)\n",
    "\n",
    "result=list1[::-1]\n",
    "set1=set(list1)\n",
    "for i in set1:\n",
    "    if(list1.count(i)>1):\n",
    "        for j in range(list1.count(i)-1):\n",
    "            result.remove(i)\n",
    "result[::-1]           "
   ]
  },
  {
   "cell_type": "markdown",
   "id": "6c7ca513",
   "metadata": {},
   "source": [
    "### 16. Create a code to check if a given list is sorted(either in ascending or decending order) or not."
   ]
  },
  {
   "cell_type": "code",
   "execution_count": 30,
   "id": "9fdbbd0b",
   "metadata": {
    "scrolled": true
   },
   "outputs": [
    {
     "name": "stdout",
     "output_type": "stream",
     "text": [
      "Enter the number of elements in list : 4\n",
      "Enter the element1 : 1\n",
      "Enter the element2 : 2\n",
      "Enter the element3 : 3\n",
      "Enter the element4 : 4\n",
      "Sorted\n"
     ]
    }
   ],
   "source": [
    "list1=[]\n",
    "n=int(input(\"Enter the number of elements in list : \"))\n",
    "for i in range(n):\n",
    "    val=int(input(f\"Enter the element{i+1} : \"))\n",
    "    list1.append(val)\n",
    "print(\"Sorted\") if(list1==sorted(list1) or list1==sorted(list1,reverse=1)) else print(\"Not sorted\")"
   ]
  },
  {
   "cell_type": "markdown",
   "id": "10b24542",
   "metadata": {},
   "source": [
    "### 17. write a code to merge two sorted lists into a single sorted list."
   ]
  },
  {
   "cell_type": "code",
   "execution_count": 1,
   "id": "bc1ab926",
   "metadata": {},
   "outputs": [
    {
     "name": "stdout",
     "output_type": "stream",
     "text": [
      "Enter the number of elements in list : 4\n",
      "Enter the element1 : 1\n",
      "Enter the element2 : 3\n",
      "Enter the element3 : 5\n",
      "Enter the element4 : 6\n",
      "Enter the number of elements in list : 7\n",
      "Enter the element1 : 8\n",
      "Enter the element2 : 9\n",
      "Enter the element3 : 15\n",
      "Enter the element4 : 17\n",
      "Enter the element5 : 27\n",
      "Enter the element6 : 35\n",
      "Enter the element7 : 49\n"
     ]
    },
    {
     "data": {
      "text/plain": [
       "[1, 3, 5, 6, 8, 9, 15, 17, 27, 35, 49]"
      ]
     },
     "execution_count": 1,
     "metadata": {},
     "output_type": "execute_result"
    }
   ],
   "source": [
    "list1=[]\n",
    "n=int(input(\"Enter the number of elements in list : \"))\n",
    "for i in range(n):\n",
    "    val=int(input(f\"Enter the element{i+1} : \"))\n",
    "    list1.append(val)\n",
    "list2=[]\n",
    "n=int(input(\"Enter the number of elements in list : \"))\n",
    "for i in range(n):\n",
    "    val=int(input(f\"Enter the element{i+1} : \"))\n",
    "    list2.append(val)\n",
    "sorted(list1+list2)"
   ]
  },
  {
   "cell_type": "markdown",
   "id": "3375b938",
   "metadata": {},
   "source": [
    "### 18. Implement a code to find the intersection of two given lists."
   ]
  },
  {
   "cell_type": "code",
   "execution_count": 4,
   "id": "29c00c24",
   "metadata": {
    "scrolled": true
   },
   "outputs": [
    {
     "name": "stdout",
     "output_type": "stream",
     "text": [
      "Enter the number of elements in list : 4\n",
      "Enter the element1 : 1\n",
      "Enter the element2 : 2\n",
      "Enter the element3 : 1\n",
      "Enter the element4 : 2\n",
      "Enter the number of elements in list : 5\n",
      "Enter the element1 : 1\n",
      "Enter the element2 : 2\n",
      "Enter the element3 : 3\n",
      "Enter the element4 : 1\n",
      "Enter the element5 : 2\n"
     ]
    },
    {
     "data": {
      "text/plain": [
       "[1, 1, 2, 2]"
      ]
     },
     "execution_count": 4,
     "metadata": {},
     "output_type": "execute_result"
    }
   ],
   "source": [
    "list1=[]\n",
    "n=int(input(\"Enter the number of elements in list : \"))\n",
    "for i in range(n):\n",
    "    val=int(input(f\"Enter the element{i+1} : \"))\n",
    "    list1.append(val)\n",
    "list2=[]\n",
    "n=int(input(\"Enter the number of elements in list : \"))\n",
    "for i in range(n):\n",
    "    val=int(input(f\"Enter the element{i+1} : \"))\n",
    "    list2.append(val)\n",
    "set1=set(list1)\n",
    "result=[]\n",
    "for i in set1:\n",
    "    if(i in list2):\n",
    "        if(list1.count(i)<=list2.count(i)):\n",
    "            for j in range(list1.count(i)):\n",
    "                result.append(i)\n",
    "        elif list1.count(i)>list2.count(i):\n",
    "            for j in range(list2.count(i)):\n",
    "                result.append(i)\n",
    "result"
   ]
  },
  {
   "cell_type": "markdown",
   "id": "5b1533b2",
   "metadata": {},
   "source": [
    "### 19. Create a code to find the union of two lists without duplicates."
   ]
  },
  {
   "cell_type": "code",
   "execution_count": 7,
   "id": "b24c7c06",
   "metadata": {
    "scrolled": true
   },
   "outputs": [
    {
     "name": "stdout",
     "output_type": "stream",
     "text": [
      "Enter the number of elements in list : 3\n",
      "Enter the element1 : 1\n",
      "Enter the element2 : 1\n",
      "Enter the element3 : 2\n",
      "Enter the number of elements in list : 3\n",
      "Enter the element1 : 1\n",
      "Enter the element2 : 2\n",
      "Enter the element3 : 3\n"
     ]
    },
    {
     "data": {
      "text/plain": [
       "{1, 2, 3}"
      ]
     },
     "execution_count": 7,
     "metadata": {},
     "output_type": "execute_result"
    }
   ],
   "source": [
    "list1=[]\n",
    "n=int(input(\"Enter the number of elements in list : \"))\n",
    "for i in range(n):\n",
    "    val=int(input(f\"Enter the element{i+1} : \"))\n",
    "    list1.append(val)\n",
    "list2=[]\n",
    "n=int(input(\"Enter the number of elements in list : \"))\n",
    "for i in range(n):\n",
    "    val=int(input(f\"Enter the element{i+1} : \"))\n",
    "    list2.append(val)\n",
    "set1=set(list1)\n",
    "set1,set2=set(list1),set(list2)\n",
    "set1.union(set2)#set1|set2"
   ]
  },
  {
   "cell_type": "markdown",
   "id": "ed3de1a6",
   "metadata": {},
   "source": [
    "### 20. Write a code to shuffle a given list randomly without using any built-in shuffle functions."
   ]
  },
  {
   "cell_type": "code",
   "execution_count": 12,
   "id": "85482d25",
   "metadata": {},
   "outputs": [
    {
     "name": "stdout",
     "output_type": "stream",
     "text": [
      "Enter input in the following format [str1,str2,...strn]\n"
     ]
    },
    {
     "name": "stdin",
     "output_type": "stream",
     "text": [
      "Enter the original_list :  [a,1,b,2,c,3]\n"
     ]
    },
    {
     "name": "stdout",
     "output_type": "stream",
     "text": [
      "Shuffled list: ['c', 'b', '3', '1', 'a', '2']\n"
     ]
    }
   ],
   "source": [
    "import random\n",
    "\n",
    "def shuffle_list(input_list):\n",
    "    shuffled_list = input_list[:]\n",
    "    n = len(shuffled_list)\n",
    "    for i in range(n - 1, 0, -1):\n",
    "        j = random.randint(0, i)\n",
    "        shuffled_list[i], shuffled_list[j] = shuffled_list[j], shuffled_list[i]\n",
    "    return shuffled_list\n",
    "    \n",
    "print(\"Enter input in the following format [str1,str2,...strn]\")\n",
    "original_list=input(\"Enter the original_list : \").split(\",\")\n",
    "original_list[0]=original_list[0][1:]\n",
    "original_list[-1]=original_list[-1][:-1]\n",
    "\n",
    "\n",
    "shuffled = shuffle_list(original_list)\n",
    "print(\"Shuffled list:\", shuffled)\n"
   ]
  },
  {
   "cell_type": "code",
   "execution_count": 14,
   "id": "ef221bbe-bb56-44be-b38b-be5c43c2452e",
   "metadata": {},
   "outputs": [
    {
     "name": "stdout",
     "output_type": "stream",
     "text": [
      "1\n",
      "4\n",
      "6\n",
      "0\n",
      "2\n",
      "2\n",
      "1\n",
      "1\n",
      "0\n",
      "1\n"
     ]
    }
   ],
   "source": [
    "import random as rd\n",
    "for i in range(10,0,-1):\n",
    "    print(rd.randint(0,i))"
   ]
  },
  {
   "cell_type": "markdown",
   "id": "16e2aafc",
   "metadata": {},
   "source": [
    "### 21. Write a code that takes two tuples as input and returns a new tuple containing elements that are common to both input tuples."
   ]
  },
  {
   "cell_type": "code",
   "execution_count": 10,
   "id": "f36ec329",
   "metadata": {},
   "outputs": [
    {
     "name": "stdout",
     "output_type": "stream",
     "text": [
      "Enter the number of elements in list : 4\n",
      "Enter the element1 : 1\n",
      "Enter the element2 : 2\n",
      "Enter the element3 : 1\n",
      "Enter the element4 : 2\n",
      "Enter the number of elements in list : 5\n",
      "Enter the element1 : 1\n",
      "Enter the element2 : 2\n",
      "Enter the element3 : 3\n",
      "Enter the element4 : 1\n",
      "Enter the element5 : 2\n"
     ]
    },
    {
     "data": {
      "text/plain": [
       "(1, 1, 2, 2)"
      ]
     },
     "execution_count": 10,
     "metadata": {},
     "output_type": "execute_result"
    }
   ],
   "source": [
    "list1=[]\n",
    "n=int(input(\"Enter the number of elements in list : \"))\n",
    "for i in range(n):\n",
    "    val=int(input(f\"Enter the element{i+1} : \"))\n",
    "    list1.append(val)\n",
    "list2=[]\n",
    "n=int(input(\"Enter the number of elements in list : \"))\n",
    "for i in range(n):\n",
    "    val=int(input(f\"Enter the element{i+1} : \"))\n",
    "    list2.append(val)\n",
    "set1=set(list1)\n",
    "result=[]\n",
    "tuple1=tuple(list1)\n",
    "tuple2=tuple(list2)\n",
    "for i in set1:\n",
    "    if(i in tuple2):\n",
    "        if(tuple1.count(i)<=tuple2.count(i)):\n",
    "            for j in range(tuple1.count(i)):\n",
    "                result.append(i)\n",
    "        elif tuple1.count(i)>tuple2.count(i):\n",
    "            for j in range(tuple2.count(i)):\n",
    "                result.append(i)\n",
    "tuple(result)"
   ]
  },
  {
   "cell_type": "markdown",
   "id": "dd110a21",
   "metadata": {},
   "source": [
    "### 22. Create a code that prompts the user to enter two sets of integers separated by commas. Then, print the intersection of these two sets."
   ]
  },
  {
   "cell_type": "code",
   "execution_count": 7,
   "id": "dd3ffa76",
   "metadata": {},
   "outputs": [
    {
     "name": "stdout",
     "output_type": "stream",
     "text": [
      "Enter the set 1 : {1,2,3,4}\n",
      "Enter the set 2 : {5,2,1}\n"
     ]
    },
    {
     "data": {
      "text/plain": [
       "{1, 2}"
      ]
     },
     "execution_count": 7,
     "metadata": {},
     "output_type": "execute_result"
    }
   ],
   "source": [
    "print(\"Enter input in the following format {num1,num2,...numn}\")\n",
    "list1=input(\"Enter the set 1 : \").split(\",\")\n",
    "list1[0]=list1[0][1:]\n",
    "list1[-1]=list1[-1][:-1]\n",
    "set1=set(map(int,list1))\n",
    "set1\n",
    "\n",
    "list2=input(\"Enter the set 2 : \").split(\",\")\n",
    "list2[0]=list2[0][1:]\n",
    "list2[-1]=list2[-1][:-1]\n",
    "set2=set(map(int,list2))\n",
    "set2\n",
    "\n",
    "set1&set2"
   ]
  },
  {
   "cell_type": "markdown",
   "id": "85bbf906",
   "metadata": {},
   "source": [
    "### 23. Write a code to concatenate two tuples. The function should take two tuples as input and return a new tuple containing elements from both input tuples."
   ]
  },
  {
   "cell_type": "code",
   "execution_count": 12,
   "id": "01b63949",
   "metadata": {},
   "outputs": [
    {
     "name": "stdout",
     "output_type": "stream",
     "text": [
      "Enter input in the following format (num1,num2,...numn)\n",
      "Enter the tuple 1 : (1,2,3,4)\n",
      "Enter the tuple 2 : (5,6,1,5)\n"
     ]
    },
    {
     "data": {
      "text/plain": [
       "(1, 2, 3, 4, 5, 6, 1, 5)"
      ]
     },
     "execution_count": 12,
     "metadata": {},
     "output_type": "execute_result"
    }
   ],
   "source": [
    "print(\"Enter input in the following format (num1,num2,...numn)\")\n",
    "list1=input(\"Enter the tuple 1 : \").split(\",\")\n",
    "list1[0]=list1[0][1:]\n",
    "list1[-1]=list1[-1][:-1]\n",
    "tuple1=tuple(map(int,list1))\n",
    "\n",
    "\n",
    "list2=input(\"Enter the tuple 2 : \").split(\",\")\n",
    "list2[0]=list2[0][1:]\n",
    "list2[-1]=list2[-1][:-1]\n",
    "tuple2=tuple(map(int,list2))\n",
    "\n",
    "def cat_tuple(a,b):\n",
    "    return(a+b)\n",
    "\n",
    "cat_tuple(tuple1,tuple2)"
   ]
  },
  {
   "cell_type": "markdown",
   "id": "5bc45b8e",
   "metadata": {},
   "source": [
    "### 24. Develop a code that prompts the user to input two sets of strings. Then, print the elements that are present in the first set but not in the second set."
   ]
  },
  {
   "cell_type": "code",
   "execution_count": 2,
   "id": "a506aeb6",
   "metadata": {},
   "outputs": [
    {
     "name": "stdout",
     "output_type": "stream",
     "text": [
      "Enter input in the following format {str1,str2,...strn}\n",
      "Enter the set 1 : {hi,sir,good}\n",
      "Enter the set 2 : {hi,PW}\n"
     ]
    },
    {
     "data": {
      "text/plain": [
       "{'good', 'sir'}"
      ]
     },
     "execution_count": 2,
     "metadata": {},
     "output_type": "execute_result"
    }
   ],
   "source": [
    "print(\"Enter input in the following format {str1,str2,...strn}\")\n",
    "list1=input(\"Enter the set 1 : \").split(\",\")\n",
    "list1[0]=list1[0][1:]\n",
    "list1[-1]=list1[-1][:-1]\n",
    "set1=set(list1)\n",
    "\n",
    "list2=input(\"Enter the set 2 : \").split(\",\")\n",
    "list2[0]=list2[0][1:]\n",
    "list2[-1]=list2[-1][:-1]\n",
    "set2=set(list2)\n",
    "\n",
    "set1-set2"
   ]
  },
  {
   "cell_type": "markdown",
   "id": "6be810ee",
   "metadata": {},
   "source": [
    "### 25. Create a code that takes a tuple and two integers as input. The function should return a new tuple containing elements from the original tuple within the specified range of indices."
   ]
  },
  {
   "cell_type": "code",
   "execution_count": 3,
   "id": "90f40e2a",
   "metadata": {},
   "outputs": [
    {
     "name": "stdout",
     "output_type": "stream",
     "text": [
      "Enter input in the following format (element1,element2,...elementn)\n",
      "Enter the tuple 1 : (hi,0,how,is,$)\n",
      "Enter the start index : 1\n",
      "Enter the stop index : 3\n"
     ]
    },
    {
     "data": {
      "text/plain": [
       "('0', 'how', 'is')"
      ]
     },
     "execution_count": 3,
     "metadata": {},
     "output_type": "execute_result"
    }
   ],
   "source": [
    "print(\"Enter input in the following format (element1,element2,...elementn)\")\n",
    "list1=input(\"Enter the tuple 1 : \").split(\",\")\n",
    "list1[0]=list1[0][1:]\n",
    "list1[-1]=list1[-1][:-1]\n",
    "tuple1=tuple(list1)\n",
    "start_i=int(input(\"Enter the start index : \"))\n",
    "stop_i=int(input(\"Enter the stop index : \"))\n",
    "def ts (tuple1,start_i,stop_i):\n",
    "    return(tuple1[start_i:stop_i+1])\n",
    "ts(tuple1,start_i,stop_i)"
   ]
  },
  {
   "cell_type": "markdown",
   "id": "d877f7f4",
   "metadata": {},
   "source": [
    "### 26. Write a code that prompts the user to input two sets of characters. Then, print the union of these two sets."
   ]
  },
  {
   "cell_type": "code",
   "execution_count": 4,
   "id": "df062abb",
   "metadata": {},
   "outputs": [
    {
     "name": "stdout",
     "output_type": "stream",
     "text": [
      "Enter input in the following format {num1,num2,...numn}\n",
      "Enter the set 1 : {1,2,3,4}\n",
      "Enter the set 2 : {5,2,1}\n"
     ]
    },
    {
     "data": {
      "text/plain": [
       "{1, 2, 3, 4, 5}"
      ]
     },
     "execution_count": 4,
     "metadata": {},
     "output_type": "execute_result"
    }
   ],
   "source": [
    "print(\"Enter input in the following format {num1,num2,...numn}\")\n",
    "list1=input(\"Enter the set 1 : \").split(\",\")\n",
    "list1[0]=list1[0][1:]\n",
    "list1[-1]=list1[-1][:-1]\n",
    "set1=set(map(int,list1))\n",
    "set1\n",
    "\n",
    "list2=input(\"Enter the set 2 : \").split(\",\")\n",
    "list2[0]=list2[0][1:]\n",
    "list2[-1]=list2[-1][:-1]\n",
    "set2=set(map(int,list2))\n",
    "set2\n",
    "\n",
    "set1|set2"
   ]
  },
  {
   "cell_type": "markdown",
   "id": "3c093d50",
   "metadata": {},
   "source": [
    "### 27. Develop a code that takes a tuple of integers as input. The function should return the maximum and minimum values from the tuple using tuple unpacking."
   ]
  },
  {
   "cell_type": "code",
   "execution_count": 7,
   "id": "224a889a",
   "metadata": {},
   "outputs": [
    {
     "name": "stdout",
     "output_type": "stream",
     "text": [
      "Enter input in the following format (num1,num2,...numn)\n",
      "Enter the tuple 1 : (4,7,1,9,3,5,3)\n",
      "max=9\n",
      "min=1\n"
     ]
    }
   ],
   "source": [
    "print(\"Enter input in the following format (num1,num2,...numn)\")\n",
    "list1=input(\"Enter the tuple 1 : \").split(\",\")\n",
    "list1[0]=list1[0][1:]\n",
    "list1[-1]=list1[-1][:-1]\n",
    "tuple1=tuple(map(int,list1))\n",
    "max1=list1[0]\n",
    "def max_min(a):\n",
    "    max1=a[0]\n",
    "    min1=a[0]\n",
    "    for i in range(len(a)):\n",
    "        if(a[i]>max1):\n",
    "            max1=a[i]\n",
    "        if(a[i]<min1):\n",
    "            min1=a[i]\n",
    "    return((max1,min1))\n",
    "print(f\"max={max_min(tuple1)[0]}\\nmin={max_min(tuple1)[1]}\")"
   ]
  },
  {
   "cell_type": "markdown",
   "id": "384ec3cb",
   "metadata": {},
   "source": [
    "### 28. Create a code that defines two sets of integers. Then, print the union, intersection, and difference of these two sets."
   ]
  },
  {
   "cell_type": "code",
   "execution_count": 10,
   "id": "b3dd464d",
   "metadata": {},
   "outputs": [
    {
     "name": "stdout",
     "output_type": "stream",
     "text": [
      "Enter input in the following format {num1,num2,...numn}\n",
      "Enter the set 1 : {1,2,3,4}\n",
      "Enter the set 2 : {5,2,1}\n",
      "Union : {1, 2, 3, 4, 5}\n",
      "Intersection : {1, 2}\n",
      "Diffrennce : {3, 4}\n"
     ]
    }
   ],
   "source": [
    "print(\"Enter input in the following format {num1,num2,...numn}\")\n",
    "list1=input(\"Enter the set 1 : \").split(\",\")\n",
    "list1[0]=list1[0][1:]\n",
    "list1[-1]=list1[-1][:-1]\n",
    "set1=set(map(int,list1))\n",
    "set1\n",
    "\n",
    "list2=input(\"Enter the set 2 : \").split(\",\")\n",
    "list2[0]=list2[0][1:]\n",
    "list2[-1]=list2[-1][:-1]\n",
    "set2=set(map(int,list2))\n",
    "set2\n",
    "\n",
    "print(f\"Union : {set1|set2}\\nIntersection : {set1&set2}\\nDiffrennce : {set1-set2}\")"
   ]
  },
  {
   "cell_type": "markdown",
   "id": "6d361dcd",
   "metadata": {},
   "source": [
    "### 29. Write a code that takes a tuple and an element as input. The function should return the count of occurrences of the given element in the tuple."
   ]
  },
  {
   "cell_type": "code",
   "execution_count": 1,
   "id": "43e9a2a1",
   "metadata": {
    "scrolled": true
   },
   "outputs": [
    {
     "name": "stdout",
     "output_type": "stream",
     "text": [
      "Enter input in the following format (str1,str2,...strn)\n",
      "Enter the tuple 1 : (hi,mam,hi,sir,good,morning,all,0)\n",
      "Enter the element to find count : hi\n",
      "2\n"
     ]
    }
   ],
   "source": [
    "print(\"Enter input in the following format (str1,str2,...strn)\")\n",
    "list1=input(\"Enter the tuple 1 : \").split(\",\")\n",
    "list1[0]=list1[0][1:]\n",
    "list1[-1]=list1[-1][:-1]\n",
    "tuple1=tuple(list1)\n",
    "\n",
    "a=input(\"Enter the element to find count : \")\n",
    "print(tuple1.count(a))"
   ]
  },
  {
   "cell_type": "markdown",
   "id": "e0b149fb",
   "metadata": {},
   "source": [
    "### 30. Develop a code that prompts the user to input two sets of strings. Then, print the symmetric difference of these two sets."
   ]
  },
  {
   "cell_type": "code",
   "execution_count": 2,
   "id": "5d7f204f",
   "metadata": {},
   "outputs": [
    {
     "name": "stdout",
     "output_type": "stream",
     "text": [
      "Enter input in the following format {str1,str2,...strn}\n",
      "Enter the set 1 : {hi,sir,good}\n",
      "Enter the set 2 : {hi,pw}\n"
     ]
    },
    {
     "data": {
      "text/plain": [
       "{'good', 'pw', 'sir'}"
      ]
     },
     "execution_count": 2,
     "metadata": {},
     "output_type": "execute_result"
    }
   ],
   "source": [
    "print(\"Enter input in the following format {str1,str2,...strn}\")\n",
    "list1=input(\"Enter the set 1 : \").split(\",\")\n",
    "list1[0]=list1[0][1:]\n",
    "list1[-1]=list1[-1][:-1]\n",
    "set1=set(list1)\n",
    "\n",
    "list2=input(\"Enter the set 2 : \").split(\",\")\n",
    "list2[0]=list2[0][1:]\n",
    "list2[-1]=list2[-1][:-1]\n",
    "set2=set(list2)\n",
    "\n",
    "set1^set2"
   ]
  },
  {
   "cell_type": "markdown",
   "id": "5a27636c",
   "metadata": {},
   "source": [
    "### 31. Write a code that takes a list of words as input and returns a dictionary where the keys are unique words and the values are the frequencies of those words in the input list."
   ]
  },
  {
   "cell_type": "code",
   "execution_count": 3,
   "id": "ef7adb2c",
   "metadata": {},
   "outputs": [
    {
     "name": "stdout",
     "output_type": "stream",
     "text": [
      "Enter the number of elements in list : 5\n",
      "Enter the element1 : 1\n",
      "Enter the element2 : 3\n",
      "Enter the element3 : 2\n",
      "Enter the element4 : 1\n",
      "Enter the element5 : 1\n",
      "{1: 3, 2: 1, 3: 1}\n"
     ]
    }
   ],
   "source": [
    "list1=[]\n",
    "n=int(input(\"Enter the number of elements in list : \"))\n",
    "for i in range(n):\n",
    "    val=int(input(f\"Enter the element{i+1} : \"))\n",
    "    list1.append(val)\n",
    "\n",
    "d=[]\n",
    "set1=set(list1)\n",
    "d=[(i,list1.count(i)) for i in set1]\n",
    "dict1=dict(d)\n",
    "print(dict1)"
   ]
  },
  {
   "cell_type": "markdown",
   "id": "7ad56bf1",
   "metadata": {},
   "source": [
    "### 32. Write a code that takes two dictionaries as input and merges them into a single dictionary. If there are common keys, the values should be added together."
   ]
  },
  {
   "cell_type": "code",
   "execution_count": 1,
   "id": "ca7b6da7",
   "metadata": {},
   "outputs": [
    {
     "name": "stdin",
     "output_type": "stream",
     "text": [
      "Enter the number of elements in the dictionary :  3\n",
      "Key :  a\n",
      "val :  12\n",
      "Key :  b\n",
      "val :  5\n",
      "Key :  c\n",
      "val :  7\n",
      "Enter the number of elements in the dictionary :  4\n",
      "Key :  d\n",
      "val :  8\n",
      "Key :  c\n",
      "val :  12\n",
      "Key :  e\n",
      "val :  1\n",
      "Key :  a\n",
      "val :  1\n"
     ]
    },
    {
     "data": {
      "text/plain": [
       "{'e': 1, 'd': 8, 'b': 5, 'c': 19, 'a': 13}"
      ]
     },
     "execution_count": 1,
     "metadata": {},
     "output_type": "execute_result"
    }
   ],
   "source": [
    "dict1=dict()\n",
    "n=int(input(\"Enter the number of elements in the dictionary : \"))\n",
    "for i in range(n):\n",
    "    key=input(\"Key : \")\n",
    "    val=int(input(\"val : \"))\n",
    "    dict1.update([[key,val]])\n",
    "\n",
    "dict2=dict()\n",
    "n=int(input(\"Enter the number of elements in the dictionary : \"))\n",
    "for i in range(n):\n",
    "    key=input(\"Key : \")\n",
    "    val=int(input(\"val : \"))\n",
    "    dict2.update([[key,val]])\n",
    "\n",
    "result = {}\n",
    "\n",
    "\n",
    "all_keys = set(dict1.keys()).union(set(dict2.keys()))\n",
    "\n",
    "for key in all_keys:\n",
    "    if key in dict1 and key in dict2:\n",
    "        result[key] = dict1[key] + dict2[key]\n",
    "    elif key in dict1:\n",
    "        result[key] = dict1[key]\n",
    "    elif key in dict2:\n",
    "        result[key] = dict2[key]\n",
    "result\n",
    "\n"
   ]
  },
  {
   "cell_type": "markdown",
   "id": "53206637",
   "metadata": {},
   "source": [
    "### 33. Write a code to access a value in a nested dictionary. The function should take the dictionary and a list of keys as input, and return the corresponding value. If any of the keys do not exist in the dictionary, the function should return None."
   ]
  },
  {
   "cell_type": "code",
   "execution_count": 3,
   "id": "29674e8c",
   "metadata": {},
   "outputs": [
    {
     "name": "stdout",
     "output_type": "stream",
     "text": [
      "42\n",
      "None\n"
     ]
    }
   ],
   "source": [
    "def get_nested_value(d, keys):\n",
    "    for key in keys:\n",
    "        if isinstance(d, dict) and key in d:\n",
    "            d = d[key]\n",
    "        else:\n",
    "            return None\n",
    "    return d\n",
    "nested_dict = {\n",
    "    'a': {\n",
    "        'b': {\n",
    "            'c': 42\n",
    "        }\n",
    "    }\n",
    "}\n",
    "\n",
    "keys = ['a', 'b', 'c']\n",
    "print(get_nested_value(nested_dict, keys)) \n",
    "\n",
    "keys = ['a', 'b', 'd']\n",
    "print(get_nested_value(nested_dict, keys)) \n"
   ]
  },
  {
   "cell_type": "markdown",
   "id": "4e0a605d",
   "metadata": {},
   "source": [
    "### 34. Write a code that takes a dictionary as input and returns a sorted version of it based on the values. You can choose whether to sort in ascending or descending order."
   ]
  },
  {
   "cell_type": "code",
   "execution_count": 48,
   "id": "72cda1d3",
   "metadata": {},
   "outputs": [
    {
     "name": "stdin",
     "output_type": "stream",
     "text": [
      "Enter the number of elements in the dictionary :  5\n",
      "Key :  a\n",
      "val :  3\n",
      "Key :  b\n",
      "val :  2\n",
      "Key :  c\n",
      "val :  9\n",
      "Key :  d\n",
      "val :  3\n",
      "Key :  e\n",
      "val :  3\n"
     ]
    },
    {
     "data": {
      "text/plain": [
       "{'b': '2', 'a': '3', 'd': '3', 'e': '3', 'c': '9'}"
      ]
     },
     "execution_count": 48,
     "metadata": {},
     "output_type": "execute_result"
    }
   ],
   "source": [
    "dict1=dict()\n",
    "n=int(input(\"Enter the number of elements in the dictionary : \"))\n",
    "for i in range(n):\n",
    "    key=input(\"Key : \")\n",
    "    val=input(\"val : \")\n",
    "    dict1.update([[key,val]])\n",
    "vals=sorted(list(dict1.values()))\n",
    "result={}\n",
    "\n",
    "for i in vals:\n",
    "    for key,val in dict1.items():\n",
    "        if(i==val):\n",
    "            if(vals.count(i)>1):\n",
    "                result.update({key:val})\n",
    "                dict1[key]=None\n",
    "            else:\n",
    "                result.update({key:val})\n",
    "            \n",
    "result             "
   ]
  },
  {
   "cell_type": "markdown",
   "id": "14fc0c2c",
   "metadata": {},
   "source": [
    "### 35. Write a code that inverts a dictionary, swapping keys and values. Ensure that the inverted dictionary correctly handles cases where multiple keys have the same value by storing the keys as a list in the inverted dictionary."
   ]
  },
  {
   "cell_type": "code",
   "execution_count": 50,
   "id": "b1ff7ca7",
   "metadata": {},
   "outputs": [
    {
     "data": {
      "text/plain": [
       "{'3': ['a', 'd', 'e'], '2': 'b', '9': 'c'}"
      ]
     },
     "execution_count": 50,
     "metadata": {},
     "output_type": "execute_result"
    }
   ],
   "source": [
    "dic1={'a':'3','b':'2','c':'9','d':'3','e':'3'}\n",
    "result={}\n",
    "vals=list(dic1.values())\n",
    "for key,val in dic1.items():    \n",
    "    if(vals.count(val)>1):\n",
    "        if(val not in result.keys()):\n",
    "            result.update({val:[key]})\n",
    "        else:\n",
    "            result[val]=result[val]+[key]\n",
    "    else:\n",
    "        result.update({val:key})\n",
    "result    "
   ]
  }
 ],
 "metadata": {
  "kernelspec": {
   "display_name": "Python 3 (ipykernel)",
   "language": "python",
   "name": "python3"
  },
  "language_info": {
   "codemirror_mode": {
    "name": "ipython",
    "version": 3
   },
   "file_extension": ".py",
   "mimetype": "text/x-python",
   "name": "python",
   "nbconvert_exporter": "python",
   "pygments_lexer": "ipython3",
   "version": "3.11.7"
  }
 },
 "nbformat": 4,
 "nbformat_minor": 5
}
